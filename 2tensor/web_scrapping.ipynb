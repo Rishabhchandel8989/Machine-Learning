{
 "cells": [
  {
   "cell_type": "code",
   "execution_count": 1,
   "metadata": {},
   "outputs": [],
   "source": [
    "import pandas as pd\n",
    "import requests\n",
    "from bs4 import BeautifulSoup"
   ]
  },
  {
   "cell_type": "code",
   "execution_count": 2,
   "metadata": {},
   "outputs": [],
   "source": [
    "headers={'User-Agent':'Mozilla/5.0 (Windows NT 6.3; Win 64 ; x64) Apple WeKit /537.36(KHTML , like Gecko) Chrome/80.0.3987.162 Safari/537.36'} \n",
    "web_page=requests.get('https://www.naukri.com/mnjuser/recommendedjobs',headers=headers).text"
   ]
  },
  {
   "cell_type": "code",
   "execution_count": null,
   "metadata": {},
   "outputs": [
    {
     "name": "stdout",
     "output_type": "stream",
     "text": [
      "<!DOCTYPE html>\n",
      "<html lang=\"en\">\n",
      "\n",
      "<head>\n",
      "    <meta http-equiv=\"Content-Type\" content=\"text/html; charset=utf-8\"/>\n",
      "    <meta http-equiv=\"X-UA-Compatible\" content=\"IE=Edge\" />\n",
      "    <script type=\"text/javascript\" src =\"//static.naukimg.com/s/0/0/j/nLoggerJB_v3.0.min.js\"></script>\n",
      "    <script type=\"text/javascript\">\n",
      "        nLogger.init({\"tag\":\"login\",\"nLogger\":{\"beaconUrl\":\"http:\\/\\/logs.naukri.com\\/uba\",\"eventName\":\"newMonkError\",\"deviceType\":\"SERVER\"},\"boomerang\":{\"logBW\":false,\"beaconUrl\":\"http:\\/\\/logs.naukri.com\\/uba\",\"imageURL\":\"\\/\\/static.naukimg.com\\/s\\/0\\/0\\/i\\/\",\"eventName\":\"newMonkPerformance\",\"deviceType\":\"SERVER\"},\"tenantId\":1,\"appId\":106,\"userIP\":\"3529063686\"});\n",
      "    </script>\n",
      "\n",
      "    <link rel=\"dns-prefetch preconnect\" href=\"//static.naukimg.com\" />\n",
      "    <link rel=\"dns-prefetch preconnect\" href=\"//logs.naukri.com\" /> \n",
      "    <link rel=\"dns-prefetch preconnect\" href=\"//lg.naukri.com\" />\n",
      "    <link rel=\"dns-prefetch preconnect\" href=\"https://www.googletagmanager.com\" />\n",
      "\n",
      "    <script>\n",
      "    (function(){\n",
      "\n",
      "       var script = document.createElement(\"script\"),\n",
      "\n",
      "           is_ie = !!navigator.userAgent.match(/Trident/g) || !!navigator.userAgent.match(/MSIE/g) || !!navigator.userAgent.match(/Edge/g);\n",
      "\n",
      "       script.src = (is_ie) ? \"//static.naukimg.com/s/5/100/j/url-polyfill.min.js\":'';\n",
      "\n",
      "       document.getElementsByTagName('head')[0].appendChild(script);\n",
      "\n",
      "    }());\n",
      "\n",
      "<!--  !function(r,o){var e={error:[]},n=r.createElement(o),g=r.getElementsByTagName(o)[0];n.async=!0,n.src=\"//static.naukimg.com/s/5/100/j/loggerSPA_v5.min.js\",n.onload=function(){window.onerror=null,g.parentNode.insertBefore(n,g),window.onerror=function(r,o,n,g,a,t){e.error.push({msg:r,url:o,line:n,col:g,err:a,cId:t})}}(document,\"script\"); -->\n",
      "\n",
      "    </script>\n",
      "    <base href=\"//www.naukri.com/nlogin\" />\n",
      "    <meta name=\"google\" content=\"notranslate\">\n",
      "    <meta name=\"description\" content=\"Login Now & Get access to Jobs not posted publicly anywhere. Search & Apply Jobs in your desired Industry. Follow top Recruiters in your domain\" />\n",
      "    <!-- manifest file -->\n",
      "    <link rel=\"shortcut icon\" href=\"/favicon.ico\" />\n",
      "    <link type=\"text/css\" href=\"//static.naukimg.com/s/5/105/c/common_v50.min.css\" rel=\"stylesheet\">\n",
      "    <title>Jobseeker's Login: Search the Best Jobs available in India & Abroad - Naukri.com</title>\n",
      "    <script>\n",
      "    window.appId = 106;  \n",
      "    window.DEBUG = true;\n",
      "    window.process = undefined;\n",
      "    window.gnb_json={\n",
      "           notificationURL: \"https://www.naukri.com/recommendapi/v1/notify\",\n",
      "           domain: \".naukri.com\",\n",
      "           cache: \"true\"\n",
      "       };\n",
      "    </script>\n",
      "    <style>.headGNBWrap #blobId{display:none}</style>\n",
      "    <script id=\"ubScript\"> (function() { var queuedSuperProps = []; var queuedEvents = []; window.ub = { track: function(eventName, eventProps) { queuedEvents.push([eventName, eventProps]) }, register: function(properties) { queuedSuperProps.push(properties); } };\n",
      "            var script = document.createElement(\"script\"); script.async = true;script.trackTdsCookie=true,script.fingerprint=false,script.src = \"//static.naukimg.com/s/0/1/j/ub_v1.7.min.js\";script.onload = function() { ub.init({\n",
      "                   trackTdsCookie : true, beaconUrl : \"https://logs.naukri.com/uba\", bulkBeaconUrl : \"https://logs.naukri.com/collectorapi/v1/uba/bulk\", queuedEvents:queuedEvents, queuedSuperProps:queuedSuperProps,  tenantId:'1' ,  autoTrack:false, blackList: \n",
      "                []\n",
      "            }); };document.head.appendChild(script);}()); ub.register({ appId:106, pageName: \"login\",  tenantId:'1' ,  }); </script>\n",
      "<script>\n",
      " var googletag = googletag || {};\n",
      " googletag.cmd = googletag.cmd || [];\n",
      "</script>\n",
      "</head>\n",
      "\n",
      "<body>\n",
      "<img width=\"99999\" height=\"99999\"\n",
      "        style=\"pointer-events:none;position:absolute;top:0;left:0;width:99vw;height:99vh;max-width:99vw;max-height:99vh\"\n",
      "        src=\"data:image/svg+xml;base64,PD94bWwgdmVyc2lvbj0iMS4wI iBlbmNvZGluZz0iVVRGLTgiPz48c3ZnIHdpZHRoPSI5OTk5OXB4IiBoZWlnaHQ9Ijk5OTk5cHgiIHZpZXdCb3g9IjAgMCA5OTk5OSA5OTk5OSIgdmVyc2lvbj0iMS4xIiB4bWxucz0iaHR0cDovL3d3dy53My5vcmcvMjAwMC9zdmciIHhtbG5zOnhsaW5rPSJodHRwOi8v d3d3LnczLm9yZy8xOTk5L3hsaW5rIj48ZyBzdHJva2U9Im5vbmUiIGZpbGw9Im5vbmUiIGZpbGwtb3BhY2l0eT0iMCI+PHJlY3QgeD0iMCIgeT0iMCIgd2lkdGg9Ijk5OTk5IiBoZWlnaHQ9Ijk5OTk5Ij48L3JlY3Q+IDwvZz4gPC9zdmc+\" />\n",
      "<img width=\"400\" height=\"400\" style=\"pointer-events:none;position:absolute;top:0;left:0;width:400px;height:400px;max-width:400px;max-height:400px;z-index:1000;\" src=\"https://static.naukimg.com/s/0/0/i/transparentImg.png\">\n",
      "<div id=\"ni-gnb-header-section\" style=\"min-height: 72px;\"></div>\n",
      "    <div id=\"root\">\n",
      "    </div>\n",
      "\n",
      "    <script>\n",
      "    //hack of IE and safari bug : Super expression must either be null or a function, not undefined\n",
      "    if (typeof HTMLElement !== 'function') {\n",
      "        var _HTMLElement = function() {};\n",
      "        _HTMLElement.prototype = HTMLElement.prototype;\n",
      "        HTMLElement = _HTMLElement;\n",
      "    }\n",
      "\n",
      "    // Download customElement pollyfill if browser not supported\n",
      "    if (!('registerElement' in document)) {\n",
      "        document.write(decodeURI(\"%3Cscript src='https://static.naukimg.com/s/0/0/j/customElements.min.js' type='text/javascript' %3E%3C/script%3E\"));\n",
      "    }\n",
      "    </script>\n",
      "    <script type=\"text/javascript\" src=\"//static.naukimg.com/s/5/105/j/external_interfaces_v1.min.js\" defer></script>\n",
      "    <script type=\"text/javascript\" src=\"//static.naukimg.com/s/5/105/j/internal_interfaces_v9.min.js\" defer></script>\n",
      "    <script type=\"text/javascript\" src=\"//static.naukimg.com/s/5/105/j/require.min.js\" defer></script>\n",
      "    <script type=\"text/javascript\" src=\"//static.naukimg.com/s/5/105/j/app_v410.min.js\" defer></script>\n",
      "        <script>(function(w, d, s, l, i) {\n",
      "        w[l] = w[l] || [];\n",
      "        w[l].push({\n",
      "            'gtm.start': new Date().getTime(),\n",
      "            event: 'gtm.js'\n",
      "        });\n",
      "        var f = d.getElementsByTagName(s)[0],\n",
      "            j = d.createElement(s),\n",
      "            dl = l != 'dataLayer' ? '&l=' + l : '';\n",
      "        j.async = true;\n",
      "        j.src =\n",
      "            'https://www.googletagmanager.com/gtm.js?id=' + i + dl;\n",
      "        f.parentNode.insertBefore(j, f);\n",
      "    })(window, document, 'script', 'dataLayer', 'GTM-NX744H');\n",
      "   </script>\n",
      "   </body>\n",
      "</html>\n",
      "\n",
      "\n"
     ]
    }
   ],
   "source": [
    "# print(web_page)"
   ]
  },
  {
   "cell_type": "code",
   "execution_count": null,
   "metadata": {},
   "outputs": [],
   "source": [
    "soup=BeautifulSoup(web_page, 'lxml')"
   ]
  },
  {
   "cell_type": "code",
   "execution_count": 14,
   "metadata": {},
   "outputs": [
    {
     "data": {
      "text/plain": [
       "[<title>Jobseeker's Login: Search the Best Jobs available in India &amp; Abroad - Naukri.com</title>]"
      ]
     },
     "execution_count": 14,
     "metadata": {},
     "output_type": "execute_result"
    }
   ],
   "source": [
    "(soup.find_all('title'))"
   ]
  },
  {
   "cell_type": "code",
   "execution_count": null,
   "metadata": {},
   "outputs": [],
   "source": []
  }
 ],
 "metadata": {
  "kernelspec": {
   "display_name": "Python 3",
   "language": "python",
   "name": "python3"
  },
  "language_info": {
   "codemirror_mode": {
    "name": "ipython",
    "version": 3
   },
   "file_extension": ".py",
   "mimetype": "text/x-python",
   "name": "python",
   "nbconvert_exporter": "python",
   "pygments_lexer": "ipython3",
   "version": "3.11.9"
  }
 },
 "nbformat": 4,
 "nbformat_minor": 2
}
