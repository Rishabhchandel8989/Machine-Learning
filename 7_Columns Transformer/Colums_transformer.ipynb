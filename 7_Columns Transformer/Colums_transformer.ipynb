{
 "cells": [
  {
   "cell_type": "code",
   "execution_count": 2,
   "id": "a795e59c",
   "metadata": {},
   "outputs": [],
   "source": [
    "import pandas as pd\n",
    "import numpy as np"
   ]
  },
  {
   "cell_type": "code",
   "execution_count": 4,
   "id": "a3fcb276",
   "metadata": {},
   "outputs": [],
   "source": [
    "df=pd.read_csv(r\"F:\\campusX\\7_Columns Transformer\\covid_toy.csv\")"
   ]
  },
  {
   "cell_type": "code",
   "execution_count": 5,
   "id": "b569c492",
   "metadata": {},
   "outputs": [
    {
     "data": {
      "application/vnd.microsoft.datawrangler.viewer.v0+json": {
       "columns": [
        {
         "name": "index",
         "rawType": "int64",
         "type": "integer"
        },
        {
         "name": "age",
         "rawType": "int64",
         "type": "integer"
        },
        {
         "name": "gender",
         "rawType": "object",
         "type": "string"
        },
        {
         "name": "fever",
         "rawType": "float64",
         "type": "float"
        },
        {
         "name": "cough",
         "rawType": "object",
         "type": "string"
        },
        {
         "name": "city",
         "rawType": "object",
         "type": "string"
        },
        {
         "name": "has_covid",
         "rawType": "object",
         "type": "string"
        }
       ],
       "ref": "5bef884b-20bb-4ef8-adc7-602a03e20b49",
       "rows": [
        [
         "0",
         "60",
         "Male",
         "103.0",
         "Mild",
         "Kolkata",
         "No"
        ],
        [
         "1",
         "27",
         "Male",
         "100.0",
         "Mild",
         "Delhi",
         "Yes"
        ],
        [
         "2",
         "42",
         "Male",
         "101.0",
         "Mild",
         "Delhi",
         "No"
        ],
        [
         "3",
         "31",
         "Female",
         "98.0",
         "Mild",
         "Kolkata",
         "No"
        ],
        [
         "4",
         "65",
         "Female",
         "101.0",
         "Mild",
         "Mumbai",
         "No"
        ]
       ],
       "shape": {
        "columns": 6,
        "rows": 5
       }
      },
      "text/html": [
       "<div>\n",
       "<style scoped>\n",
       "    .dataframe tbody tr th:only-of-type {\n",
       "        vertical-align: middle;\n",
       "    }\n",
       "\n",
       "    .dataframe tbody tr th {\n",
       "        vertical-align: top;\n",
       "    }\n",
       "\n",
       "    .dataframe thead th {\n",
       "        text-align: right;\n",
       "    }\n",
       "</style>\n",
       "<table border=\"1\" class=\"dataframe\">\n",
       "  <thead>\n",
       "    <tr style=\"text-align: right;\">\n",
       "      <th></th>\n",
       "      <th>age</th>\n",
       "      <th>gender</th>\n",
       "      <th>fever</th>\n",
       "      <th>cough</th>\n",
       "      <th>city</th>\n",
       "      <th>has_covid</th>\n",
       "    </tr>\n",
       "  </thead>\n",
       "  <tbody>\n",
       "    <tr>\n",
       "      <th>0</th>\n",
       "      <td>60</td>\n",
       "      <td>Male</td>\n",
       "      <td>103.0</td>\n",
       "      <td>Mild</td>\n",
       "      <td>Kolkata</td>\n",
       "      <td>No</td>\n",
       "    </tr>\n",
       "    <tr>\n",
       "      <th>1</th>\n",
       "      <td>27</td>\n",
       "      <td>Male</td>\n",
       "      <td>100.0</td>\n",
       "      <td>Mild</td>\n",
       "      <td>Delhi</td>\n",
       "      <td>Yes</td>\n",
       "    </tr>\n",
       "    <tr>\n",
       "      <th>2</th>\n",
       "      <td>42</td>\n",
       "      <td>Male</td>\n",
       "      <td>101.0</td>\n",
       "      <td>Mild</td>\n",
       "      <td>Delhi</td>\n",
       "      <td>No</td>\n",
       "    </tr>\n",
       "    <tr>\n",
       "      <th>3</th>\n",
       "      <td>31</td>\n",
       "      <td>Female</td>\n",
       "      <td>98.0</td>\n",
       "      <td>Mild</td>\n",
       "      <td>Kolkata</td>\n",
       "      <td>No</td>\n",
       "    </tr>\n",
       "    <tr>\n",
       "      <th>4</th>\n",
       "      <td>65</td>\n",
       "      <td>Female</td>\n",
       "      <td>101.0</td>\n",
       "      <td>Mild</td>\n",
       "      <td>Mumbai</td>\n",
       "      <td>No</td>\n",
       "    </tr>\n",
       "  </tbody>\n",
       "</table>\n",
       "</div>"
      ],
      "text/plain": [
       "   age  gender  fever cough     city has_covid\n",
       "0   60    Male  103.0  Mild  Kolkata        No\n",
       "1   27    Male  100.0  Mild    Delhi       Yes\n",
       "2   42    Male  101.0  Mild    Delhi        No\n",
       "3   31  Female   98.0  Mild  Kolkata        No\n",
       "4   65  Female  101.0  Mild   Mumbai        No"
      ]
     },
     "execution_count": 5,
     "metadata": {},
     "output_type": "execute_result"
    }
   ],
   "source": [
    "df.head()"
   ]
  },
  {
   "cell_type": "code",
   "execution_count": 6,
   "id": "f84ea19e",
   "metadata": {},
   "outputs": [],
   "source": [
    "from sklearn.model_selection import train_test_split"
   ]
  },
  {
   "cell_type": "code",
   "execution_count": 9,
   "id": "63c2fec3",
   "metadata": {},
   "outputs": [],
   "source": [
    "X_train,X_test,y_train,y_test=train_test_split(df.drop(columns=['has_covid']),df['has_covid'],test_size=0.2)\n",
    "\n",
    "\n",
    "# train me has covid nhi jayeha"
   ]
  },
  {
   "cell_type": "code",
   "execution_count": 10,
   "id": "4350c27a",
   "metadata": {},
   "outputs": [
    {
     "data": {
      "application/vnd.microsoft.datawrangler.viewer.v0+json": {
       "columns": [
        {
         "name": "index",
         "rawType": "int64",
         "type": "integer"
        },
        {
         "name": "age",
         "rawType": "int64",
         "type": "integer"
        },
        {
         "name": "gender",
         "rawType": "object",
         "type": "string"
        },
        {
         "name": "fever",
         "rawType": "float64",
         "type": "float"
        },
        {
         "name": "cough",
         "rawType": "object",
         "type": "string"
        },
        {
         "name": "city",
         "rawType": "object",
         "type": "string"
        }
       ],
       "ref": "45b90b65-e0fe-471b-be7d-fb27cf6c336b",
       "rows": [
        [
         "23",
         "80",
         "Female",
         "98.0",
         "Mild",
         "Delhi"
        ],
        [
         "93",
         "27",
         "Male",
         "100.0",
         "Mild",
         "Kolkata"
        ],
        [
         "25",
         "23",
         "Male",
         null,
         "Mild",
         "Mumbai"
        ],
        [
         "52",
         "47",
         "Female",
         "100.0",
         "Strong",
         "Bangalore"
        ],
        [
         "91",
         "38",
         "Male",
         null,
         "Mild",
         "Delhi"
        ],
        [
         "79",
         "48",
         "Female",
         "103.0",
         "Mild",
         "Kolkata"
        ],
        [
         "38",
         "49",
         "Female",
         "101.0",
         "Mild",
         "Delhi"
        ],
        [
         "53",
         "83",
         "Male",
         "98.0",
         "Mild",
         "Delhi"
        ],
        [
         "46",
         "19",
         "Female",
         "101.0",
         "Mild",
         "Mumbai"
        ],
        [
         "72",
         "83",
         "Female",
         "101.0",
         "Mild",
         "Kolkata"
        ],
        [
         "27",
         "33",
         "Female",
         "102.0",
         "Strong",
         "Delhi"
        ],
        [
         "15",
         "70",
         "Male",
         "103.0",
         "Strong",
         "Kolkata"
        ],
        [
         "73",
         "34",
         "Male",
         "98.0",
         "Strong",
         "Kolkata"
        ],
        [
         "95",
         "12",
         "Female",
         "104.0",
         "Mild",
         "Bangalore"
        ],
        [
         "68",
         "54",
         "Female",
         "104.0",
         "Strong",
         "Kolkata"
        ],
        [
         "17",
         "40",
         "Female",
         "98.0",
         "Strong",
         "Delhi"
        ],
        [
         "62",
         "56",
         "Female",
         "104.0",
         "Strong",
         "Bangalore"
        ],
        [
         "78",
         "11",
         "Male",
         "100.0",
         "Mild",
         "Bangalore"
        ],
        [
         "18",
         "64",
         "Female",
         "98.0",
         "Mild",
         "Bangalore"
        ],
        [
         "1",
         "27",
         "Male",
         "100.0",
         "Mild",
         "Delhi"
        ],
        [
         "59",
         "6",
         "Female",
         "104.0",
         "Mild",
         "Kolkata"
        ],
        [
         "16",
         "69",
         "Female",
         "103.0",
         "Mild",
         "Kolkata"
        ],
        [
         "49",
         "44",
         "Male",
         "104.0",
         "Mild",
         "Mumbai"
        ],
        [
         "28",
         "16",
         "Male",
         "104.0",
         "Mild",
         "Kolkata"
        ],
        [
         "33",
         "26",
         "Female",
         "98.0",
         "Mild",
         "Kolkata"
        ],
        [
         "7",
         "20",
         "Female",
         null,
         "Strong",
         "Mumbai"
        ],
        [
         "76",
         "80",
         "Male",
         "100.0",
         "Mild",
         "Bangalore"
        ],
        [
         "67",
         "65",
         "Male",
         "99.0",
         "Mild",
         "Bangalore"
        ],
        [
         "92",
         "82",
         "Female",
         "102.0",
         "Strong",
         "Kolkata"
        ],
        [
         "98",
         "5",
         "Female",
         "98.0",
         "Strong",
         "Mumbai"
        ],
        [
         "11",
         "65",
         "Female",
         "98.0",
         "Mild",
         "Mumbai"
        ],
        [
         "2",
         "42",
         "Male",
         "101.0",
         "Mild",
         "Delhi"
        ],
        [
         "44",
         "20",
         "Male",
         "102.0",
         "Strong",
         "Delhi"
        ],
        [
         "71",
         "75",
         "Female",
         "104.0",
         "Strong",
         "Delhi"
        ],
        [
         "80",
         "14",
         "Female",
         "99.0",
         "Mild",
         "Mumbai"
        ],
        [
         "57",
         "49",
         "Female",
         "99.0",
         "Strong",
         "Bangalore"
        ],
        [
         "14",
         "51",
         "Male",
         "104.0",
         "Mild",
         "Bangalore"
        ],
        [
         "20",
         "12",
         "Male",
         "98.0",
         "Strong",
         "Bangalore"
        ],
        [
         "60",
         "24",
         "Female",
         "102.0",
         "Strong",
         "Bangalore"
        ],
        [
         "21",
         "73",
         "Male",
         "98.0",
         "Mild",
         "Bangalore"
        ],
        [
         "75",
         "5",
         "Male",
         "102.0",
         "Mild",
         "Kolkata"
        ],
        [
         "10",
         "75",
         "Female",
         null,
         "Mild",
         "Delhi"
        ],
        [
         "84",
         "69",
         "Female",
         "98.0",
         "Strong",
         "Mumbai"
        ],
        [
         "89",
         "46",
         "Male",
         "103.0",
         "Strong",
         "Bangalore"
        ],
        [
         "37",
         "55",
         "Male",
         "100.0",
         "Mild",
         "Kolkata"
        ],
        [
         "26",
         "19",
         "Female",
         "100.0",
         "Mild",
         "Kolkata"
        ],
        [
         "19",
         "42",
         "Female",
         null,
         "Strong",
         "Bangalore"
        ],
        [
         "86",
         "25",
         "Male",
         "104.0",
         "Mild",
         "Bangalore"
        ],
        [
         "90",
         "59",
         "Female",
         "99.0",
         "Strong",
         "Delhi"
        ],
        [
         "22",
         "71",
         "Female",
         "98.0",
         "Strong",
         "Kolkata"
        ]
       ],
       "shape": {
        "columns": 5,
        "rows": 80
       }
      },
      "text/html": [
       "<div>\n",
       "<style scoped>\n",
       "    .dataframe tbody tr th:only-of-type {\n",
       "        vertical-align: middle;\n",
       "    }\n",
       "\n",
       "    .dataframe tbody tr th {\n",
       "        vertical-align: top;\n",
       "    }\n",
       "\n",
       "    .dataframe thead th {\n",
       "        text-align: right;\n",
       "    }\n",
       "</style>\n",
       "<table border=\"1\" class=\"dataframe\">\n",
       "  <thead>\n",
       "    <tr style=\"text-align: right;\">\n",
       "      <th></th>\n",
       "      <th>age</th>\n",
       "      <th>gender</th>\n",
       "      <th>fever</th>\n",
       "      <th>cough</th>\n",
       "      <th>city</th>\n",
       "    </tr>\n",
       "  </thead>\n",
       "  <tbody>\n",
       "    <tr>\n",
       "      <th>23</th>\n",
       "      <td>80</td>\n",
       "      <td>Female</td>\n",
       "      <td>98.0</td>\n",
       "      <td>Mild</td>\n",
       "      <td>Delhi</td>\n",
       "    </tr>\n",
       "    <tr>\n",
       "      <th>93</th>\n",
       "      <td>27</td>\n",
       "      <td>Male</td>\n",
       "      <td>100.0</td>\n",
       "      <td>Mild</td>\n",
       "      <td>Kolkata</td>\n",
       "    </tr>\n",
       "    <tr>\n",
       "      <th>25</th>\n",
       "      <td>23</td>\n",
       "      <td>Male</td>\n",
       "      <td>NaN</td>\n",
       "      <td>Mild</td>\n",
       "      <td>Mumbai</td>\n",
       "    </tr>\n",
       "    <tr>\n",
       "      <th>52</th>\n",
       "      <td>47</td>\n",
       "      <td>Female</td>\n",
       "      <td>100.0</td>\n",
       "      <td>Strong</td>\n",
       "      <td>Bangalore</td>\n",
       "    </tr>\n",
       "    <tr>\n",
       "      <th>91</th>\n",
       "      <td>38</td>\n",
       "      <td>Male</td>\n",
       "      <td>NaN</td>\n",
       "      <td>Mild</td>\n",
       "      <td>Delhi</td>\n",
       "    </tr>\n",
       "    <tr>\n",
       "      <th>...</th>\n",
       "      <td>...</td>\n",
       "      <td>...</td>\n",
       "      <td>...</td>\n",
       "      <td>...</td>\n",
       "      <td>...</td>\n",
       "    </tr>\n",
       "    <tr>\n",
       "      <th>13</th>\n",
       "      <td>64</td>\n",
       "      <td>Male</td>\n",
       "      <td>102.0</td>\n",
       "      <td>Mild</td>\n",
       "      <td>Bangalore</td>\n",
       "    </tr>\n",
       "    <tr>\n",
       "      <th>34</th>\n",
       "      <td>74</td>\n",
       "      <td>Male</td>\n",
       "      <td>102.0</td>\n",
       "      <td>Mild</td>\n",
       "      <td>Mumbai</td>\n",
       "    </tr>\n",
       "    <tr>\n",
       "      <th>47</th>\n",
       "      <td>18</td>\n",
       "      <td>Female</td>\n",
       "      <td>104.0</td>\n",
       "      <td>Mild</td>\n",
       "      <td>Bangalore</td>\n",
       "    </tr>\n",
       "    <tr>\n",
       "      <th>12</th>\n",
       "      <td>25</td>\n",
       "      <td>Female</td>\n",
       "      <td>99.0</td>\n",
       "      <td>Strong</td>\n",
       "      <td>Kolkata</td>\n",
       "    </tr>\n",
       "    <tr>\n",
       "      <th>42</th>\n",
       "      <td>27</td>\n",
       "      <td>Male</td>\n",
       "      <td>100.0</td>\n",
       "      <td>Mild</td>\n",
       "      <td>Delhi</td>\n",
       "    </tr>\n",
       "  </tbody>\n",
       "</table>\n",
       "<p>80 rows × 5 columns</p>\n",
       "</div>"
      ],
      "text/plain": [
       "    age  gender  fever   cough       city\n",
       "23   80  Female   98.0    Mild      Delhi\n",
       "93   27    Male  100.0    Mild    Kolkata\n",
       "25   23    Male    NaN    Mild     Mumbai\n",
       "52   47  Female  100.0  Strong  Bangalore\n",
       "91   38    Male    NaN    Mild      Delhi\n",
       "..  ...     ...    ...     ...        ...\n",
       "13   64    Male  102.0    Mild  Bangalore\n",
       "34   74    Male  102.0    Mild     Mumbai\n",
       "47   18  Female  104.0    Mild  Bangalore\n",
       "12   25  Female   99.0  Strong    Kolkata\n",
       "42   27    Male  100.0    Mild      Delhi\n",
       "\n",
       "[80 rows x 5 columns]"
      ]
     },
     "execution_count": 10,
     "metadata": {},
     "output_type": "execute_result"
    }
   ],
   "source": [
    "X_train"
   ]
  },
  {
   "cell_type": "code",
   "execution_count": 13,
   "id": "a3c1f6dd",
   "metadata": {},
   "outputs": [
    {
     "data": {
      "application/vnd.microsoft.datawrangler.viewer.v0+json": {
       "columns": [
        {
         "name": "index",
         "rawType": "object",
         "type": "string"
        },
        {
         "name": "0",
         "rawType": "int64",
         "type": "integer"
        }
       ],
       "ref": "a1365a2f-8430-4d85-bdb5-6ed91952d348",
       "rows": [
        [
         "age",
         "0"
        ],
        [
         "gender",
         "0"
        ],
        [
         "fever",
         "10"
        ],
        [
         "cough",
         "0"
        ],
        [
         "city",
         "0"
        ],
        [
         "has_covid",
         "0"
        ]
       ],
       "shape": {
        "columns": 1,
        "rows": 6
       }
      },
      "text/plain": [
       "age           0\n",
       "gender        0\n",
       "fever        10\n",
       "cough         0\n",
       "city          0\n",
       "has_covid     0\n",
       "dtype: int64"
      ]
     },
     "execution_count": 13,
     "metadata": {},
     "output_type": "execute_result"
    }
   ],
   "source": [
    "df.isnull().sum()"
   ]
  },
  {
   "cell_type": "code",
   "execution_count": 24,
   "id": "0e2b0eed",
   "metadata": {},
   "outputs": [
    {
     "data": {
      "application/vnd.microsoft.datawrangler.viewer.v0+json": {
       "columns": [
        {
         "name": "index",
         "rawType": "int64",
         "type": "integer"
        },
        {
         "name": "fever",
         "rawType": "float64",
         "type": "float"
        }
       ],
       "ref": "8bef9bf1-605e-4579-b8f7-813cc3f1df5c",
       "rows": [
        [
         "23",
         "98.0"
        ],
        [
         "93",
         "100.0"
        ],
        [
         "25",
         null
        ],
        [
         "52",
         "100.0"
        ],
        [
         "91",
         null
        ],
        [
         "79",
         "103.0"
        ],
        [
         "38",
         "101.0"
        ],
        [
         "53",
         "98.0"
        ],
        [
         "46",
         "101.0"
        ],
        [
         "72",
         "101.0"
        ],
        [
         "27",
         "102.0"
        ],
        [
         "15",
         "103.0"
        ],
        [
         "73",
         "98.0"
        ],
        [
         "95",
         "104.0"
        ],
        [
         "68",
         "104.0"
        ],
        [
         "17",
         "98.0"
        ],
        [
         "62",
         "104.0"
        ],
        [
         "78",
         "100.0"
        ],
        [
         "18",
         "98.0"
        ],
        [
         "1",
         "100.0"
        ],
        [
         "59",
         "104.0"
        ],
        [
         "16",
         "103.0"
        ],
        [
         "49",
         "104.0"
        ],
        [
         "28",
         "104.0"
        ],
        [
         "33",
         "98.0"
        ],
        [
         "7",
         null
        ],
        [
         "76",
         "100.0"
        ],
        [
         "67",
         "99.0"
        ],
        [
         "92",
         "102.0"
        ],
        [
         "98",
         "98.0"
        ],
        [
         "11",
         "98.0"
        ],
        [
         "2",
         "101.0"
        ],
        [
         "44",
         "102.0"
        ],
        [
         "71",
         "104.0"
        ],
        [
         "80",
         "99.0"
        ],
        [
         "57",
         "99.0"
        ],
        [
         "14",
         "104.0"
        ],
        [
         "20",
         "98.0"
        ],
        [
         "60",
         "102.0"
        ],
        [
         "21",
         "98.0"
        ],
        [
         "75",
         "102.0"
        ],
        [
         "10",
         null
        ],
        [
         "84",
         "98.0"
        ],
        [
         "89",
         "103.0"
        ],
        [
         "37",
         "100.0"
        ],
        [
         "26",
         "100.0"
        ],
        [
         "19",
         null
        ],
        [
         "86",
         "104.0"
        ],
        [
         "90",
         "99.0"
        ],
        [
         "22",
         "98.0"
        ]
       ],
       "shape": {
        "columns": 1,
        "rows": 80
       }
      },
      "text/plain": [
       "23     98.0\n",
       "93    100.0\n",
       "25      NaN\n",
       "52    100.0\n",
       "91      NaN\n",
       "      ...  \n",
       "13    102.0\n",
       "34    102.0\n",
       "47    104.0\n",
       "12     99.0\n",
       "42    100.0\n",
       "Name: fever, Length: 80, dtype: float64"
      ]
     },
     "execution_count": 24,
     "metadata": {},
     "output_type": "execute_result"
    }
   ],
   "source": [
    "X_train['fever']"
   ]
  },
  {
   "cell_type": "code",
   "execution_count": 25,
   "id": "19fbdac2",
   "metadata": {},
   "outputs": [],
   "source": [
    "from sklearn.impute import SimpleImputer\n",
    "\n",
    "si=SimpleImputer()\n",
    "\n",
    "X_train_fever=si.fit_transform(X_train[['fever']])"
   ]
  },
  {
   "cell_type": "code",
   "execution_count": 22,
   "id": "02635624",
   "metadata": {},
   "outputs": [
    {
     "data": {
      "text/plain": [
       "array([[ 98.        ],\n",
       "       [100.        ],\n",
       "       [100.93150685],\n",
       "       [100.        ],\n",
       "       [100.93150685],\n",
       "       [103.        ],\n",
       "       [101.        ],\n",
       "       [ 98.        ],\n",
       "       [101.        ],\n",
       "       [101.        ],\n",
       "       [102.        ],\n",
       "       [103.        ],\n",
       "       [ 98.        ],\n",
       "       [104.        ],\n",
       "       [104.        ],\n",
       "       [ 98.        ],\n",
       "       [104.        ],\n",
       "       [100.        ],\n",
       "       [ 98.        ],\n",
       "       [100.        ],\n",
       "       [104.        ],\n",
       "       [103.        ],\n",
       "       [104.        ],\n",
       "       [104.        ],\n",
       "       [ 98.        ],\n",
       "       [100.93150685],\n",
       "       [100.        ],\n",
       "       [ 99.        ],\n",
       "       [102.        ],\n",
       "       [ 98.        ],\n",
       "       [ 98.        ],\n",
       "       [101.        ],\n",
       "       [102.        ],\n",
       "       [104.        ],\n",
       "       [ 99.        ],\n",
       "       [ 99.        ],\n",
       "       [104.        ],\n",
       "       [ 98.        ],\n",
       "       [102.        ],\n",
       "       [ 98.        ],\n",
       "       [102.        ],\n",
       "       [100.93150685],\n",
       "       [ 98.        ],\n",
       "       [103.        ],\n",
       "       [100.        ],\n",
       "       [100.        ],\n",
       "       [100.93150685],\n",
       "       [104.        ],\n",
       "       [ 99.        ],\n",
       "       [ 98.        ],\n",
       "       [101.        ],\n",
       "       [101.        ],\n",
       "       [104.        ],\n",
       "       [103.        ],\n",
       "       [101.        ],\n",
       "       [ 99.        ],\n",
       "       [100.93150685],\n",
       "       [101.        ],\n",
       "       [102.        ],\n",
       "       [101.        ],\n",
       "       [101.        ],\n",
       "       [102.        ],\n",
       "       [101.        ],\n",
       "       [103.        ],\n",
       "       [100.        ],\n",
       "       [ 98.        ],\n",
       "       [101.        ],\n",
       "       [ 98.        ],\n",
       "       [104.        ],\n",
       "       [100.        ],\n",
       "       [100.        ],\n",
       "       [104.        ],\n",
       "       [100.93150685],\n",
       "       [101.        ],\n",
       "       [101.        ],\n",
       "       [102.        ],\n",
       "       [102.        ],\n",
       "       [104.        ],\n",
       "       [ 99.        ],\n",
       "       [100.        ]])"
      ]
     },
     "execution_count": 22,
     "metadata": {},
     "output_type": "execute_result"
    }
   ],
   "source": [
    "X_train_fever"
   ]
  },
  {
   "cell_type": "code",
   "execution_count": null,
   "id": "ed683584",
   "metadata": {},
   "outputs": [],
   "source": []
  }
 ],
 "metadata": {
  "kernelspec": {
   "display_name": "Python 3",
   "language": "python",
   "name": "python3"
  },
  "language_info": {
   "codemirror_mode": {
    "name": "ipython",
    "version": 3
   },
   "file_extension": ".py",
   "mimetype": "text/x-python",
   "name": "python",
   "nbconvert_exporter": "python",
   "pygments_lexer": "ipython3",
   "version": "3.11.9"
  }
 },
 "nbformat": 4,
 "nbformat_minor": 5
}
