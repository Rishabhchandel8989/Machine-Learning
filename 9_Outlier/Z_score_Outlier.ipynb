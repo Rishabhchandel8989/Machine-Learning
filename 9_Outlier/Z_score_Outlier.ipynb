{
 "cells": [
  {
   "cell_type": "code",
   "execution_count": 1,
   "id": "f9397776",
   "metadata": {},
   "outputs": [],
   "source": [
    "import pandas as pd\n",
    "import numpy as np\n",
    "import matplotlib.pyplot as plt \n",
    "import seaborn as sns"
   ]
  },
  {
   "cell_type": "code",
   "execution_count": 2,
   "id": "2ccd7810",
   "metadata": {},
   "outputs": [],
   "source": [
    "df=pd.read_csv(\"placement.csv\")"
   ]
  },
  {
   "cell_type": "code",
   "execution_count": 3,
   "id": "d2243469",
   "metadata": {},
   "outputs": [
    {
     "data": {
      "text/plain": [
       "(1000, 3)"
      ]
     },
     "execution_count": 3,
     "metadata": {},
     "output_type": "execute_result"
    }
   ],
   "source": [
    "df.shape"
   ]
  },
  {
   "cell_type": "code",
   "execution_count": 4,
   "id": "db733ed4",
   "metadata": {},
   "outputs": [
    {
     "data": {
      "application/vnd.microsoft.datawrangler.viewer.v0+json": {
       "columns": [
        {
         "name": "index",
         "rawType": "int64",
         "type": "integer"
        },
        {
         "name": "cgpa",
         "rawType": "float64",
         "type": "float"
        },
        {
         "name": "placement_exam_marks",
         "rawType": "float64",
         "type": "float"
        },
        {
         "name": "placed",
         "rawType": "int64",
         "type": "integer"
        }
       ],
       "ref": "4deb6849-6aa2-4814-8e16-03ed12fa1456",
       "rows": [
        [
         "0",
         "7.19",
         "26.0",
         "1"
        ],
        [
         "1",
         "7.46",
         "38.0",
         "1"
        ],
        [
         "2",
         "7.54",
         "40.0",
         "1"
        ],
        [
         "3",
         "6.42",
         "8.0",
         "1"
        ],
        [
         "4",
         "7.23",
         "17.0",
         "0"
        ]
       ],
       "shape": {
        "columns": 3,
        "rows": 5
       }
      },
      "text/html": [
       "<div>\n",
       "<style scoped>\n",
       "    .dataframe tbody tr th:only-of-type {\n",
       "        vertical-align: middle;\n",
       "    }\n",
       "\n",
       "    .dataframe tbody tr th {\n",
       "        vertical-align: top;\n",
       "    }\n",
       "\n",
       "    .dataframe thead th {\n",
       "        text-align: right;\n",
       "    }\n",
       "</style>\n",
       "<table border=\"1\" class=\"dataframe\">\n",
       "  <thead>\n",
       "    <tr style=\"text-align: right;\">\n",
       "      <th></th>\n",
       "      <th>cgpa</th>\n",
       "      <th>placement_exam_marks</th>\n",
       "      <th>placed</th>\n",
       "    </tr>\n",
       "  </thead>\n",
       "  <tbody>\n",
       "    <tr>\n",
       "      <th>0</th>\n",
       "      <td>7.19</td>\n",
       "      <td>26.0</td>\n",
       "      <td>1</td>\n",
       "    </tr>\n",
       "    <tr>\n",
       "      <th>1</th>\n",
       "      <td>7.46</td>\n",
       "      <td>38.0</td>\n",
       "      <td>1</td>\n",
       "    </tr>\n",
       "    <tr>\n",
       "      <th>2</th>\n",
       "      <td>7.54</td>\n",
       "      <td>40.0</td>\n",
       "      <td>1</td>\n",
       "    </tr>\n",
       "    <tr>\n",
       "      <th>3</th>\n",
       "      <td>6.42</td>\n",
       "      <td>8.0</td>\n",
       "      <td>1</td>\n",
       "    </tr>\n",
       "    <tr>\n",
       "      <th>4</th>\n",
       "      <td>7.23</td>\n",
       "      <td>17.0</td>\n",
       "      <td>0</td>\n",
       "    </tr>\n",
       "  </tbody>\n",
       "</table>\n",
       "</div>"
      ],
      "text/plain": [
       "   cgpa  placement_exam_marks  placed\n",
       "0  7.19                  26.0       1\n",
       "1  7.46                  38.0       1\n",
       "2  7.54                  40.0       1\n",
       "3  6.42                   8.0       1\n",
       "4  7.23                  17.0       0"
      ]
     },
     "execution_count": 4,
     "metadata": {},
     "output_type": "execute_result"
    }
   ],
   "source": [
    "df.head()"
   ]
  },
  {
   "cell_type": "code",
   "execution_count": 10,
   "id": "14510954",
   "metadata": {},
   "outputs": [
    {
     "name": "stderr",
     "output_type": "stream",
     "text": [
      "C:\\Users\\risha\\AppData\\Local\\Temp\\ipykernel_17648\\4267593706.py:3: UserWarning: \n",
      "\n",
      "`distplot` is a deprecated function and will be removed in seaborn v0.14.0.\n",
      "\n",
      "Please adapt your code to use either `displot` (a figure-level function with\n",
      "similar flexibility) or `histplot` (an axes-level function for histograms).\n",
      "\n",
      "For a guide to updating your code to use the new functions, please see\n",
      "https://gist.github.com/mwaskom/de44147ed2974457ad6372750bbe5751\n",
      "\n",
      "  sns.distplot(df['cgpa'])\n",
      "C:\\Users\\risha\\AppData\\Local\\Temp\\ipykernel_17648\\4267593706.py:7: UserWarning: \n",
      "\n",
      "`distplot` is a deprecated function and will be removed in seaborn v0.14.0.\n",
      "\n",
      "Please adapt your code to use either `displot` (a figure-level function with\n",
      "similar flexibility) or `histplot` (an axes-level function for histograms).\n",
      "\n",
      "For a guide to updating your code to use the new functions, please see\n",
      "https://gist.github.com/mwaskom/de44147ed2974457ad6372750bbe5751\n",
      "\n",
      "  sns.distplot(df['placement_exam_marks'])\n"
     ]
    },
    {
     "data": {
      "image/png": "[encoded data removed]",
      "text/plain": [
       "<Figure size 1200x500 with 1 Axes>"
      ]
     },
     "metadata": {},
     "output_type": "display_data"
    },
    {
     "data": {
      "image/png": "[encoded data removed]",
      "text/plain": [
       "<Figure size 1200x500 with 1 Axes>"
      ]
     },
     "metadata": {},
     "output_type": "display_data"
    }
   ],
   "source": [
    "plt.figure(figsize=(12,5))\n",
    "plt.subplot(1,2,1)\n",
    "sns.distplot(df['cgpa'])\n",
    "\n",
    "plt.figure(figsize=(12,5))\n",
    "plt.subplot(1,2,1)\n",
    "sns.distplot(df['placement_exam_marks'])\n",
    "\n",
    "\n",
    "plt.show()"
   ]
  },
  {
   "cell_type": "code",
   "execution_count": 14,
   "id": "66daf69e",
   "metadata": {},
   "outputs": [
    {
     "name": "stdout",
     "output_type": "stream",
     "text": [
      "Mean value of cgpa 6.96124\n",
      "Std of the cgpa 0.6158978751323896\n",
      "Max in cgpa is  9.12\n",
      "Min is cgpa is  4.89\n"
     ]
    }
   ],
   "source": [
    "print(\"Mean value of cgpa\",df['cgpa'].mean())\n",
    "print(\"Std of the cgpa\",df['cgpa'].std())\n",
    "print(\"Max in cgpa is \",df['cgpa'].max())\n",
    "print(\"Min is cgpa is \",df['cgpa'].min())"
   ]
  },
  {
   "cell_type": "code",
   "execution_count": 23,
   "id": "504675a4",
   "metadata": {},
   "outputs": [
    {
     "name": "stdout",
     "output_type": "stream",
     "text": [
      "Highest allowed 8.808933625397168\n",
      "Lowest allowed  5.113546374602832\n"
     ]
    }
   ],
   "source": [
    "# Finding the boundary values: \n",
    "print(\"Highest allowed\",df['cgpa'].mean() + 3*df['cgpa'].std())\n",
    "print(\"Lowest allowed \",df['cgpa'].mean()-3*df['cgpa'].std())"
   ]
  },
  {
   "cell_type": "code",
   "execution_count": 26,
   "id": "9193f045",
   "metadata": {},
   "outputs": [
    {
     "data": {
      "application/vnd.microsoft.datawrangler.viewer.v0+json": {
       "columns": [
        {
         "name": "index",
         "rawType": "int64",
         "type": "integer"
        },
        {
         "name": "cgpa",
         "rawType": "float64",
         "type": "float"
        },
        {
         "name": "placement_exam_marks",
         "rawType": "float64",
         "type": "float"
        },
        {
         "name": "placed",
         "rawType": "int64",
         "type": "integer"
        }
       ],
       "ref": "e668277a-a020-46aa-abf6-ee31e3331acb",
       "rows": [
        [
         "34",
         "8.15",
         "9.0",
         "0"
        ],
        [
         "37",
         "8.51",
         "9.0",
         "1"
        ],
        [
         "49",
         "8.23",
         "28.0",
         "1"
        ],
        [
         "54",
         "8.42",
         "36.0",
         "1"
        ],
        [
         "55",
         "8.12",
         "15.0",
         "0"
        ],
        [
         "67",
         "8.04",
         "18.0",
         "1"
        ],
        [
         "76",
         "8.35",
         "12.0",
         "0"
        ],
        [
         "78",
         "8.2",
         "12.0",
         "0"
        ],
        [
         "98",
         "8.12",
         "76.0",
         "0"
        ],
        [
         "131",
         "8.19",
         "19.0",
         "1"
        ],
        [
         "139",
         "8.09",
         "5.0",
         "1"
        ],
        [
         "150",
         "8.53",
         "22.0",
         "0"
        ],
        [
         "194",
         "8.19",
         "33.0",
         "0"
        ],
        [
         "198",
         "8.29",
         "44.0",
         "1"
        ],
        [
         "234",
         "8.09",
         "36.0",
         "0"
        ],
        [
         "263",
         "8.11",
         "50.0",
         "1"
        ],
        [
         "275",
         "8.03",
         "39.0",
         "0"
        ],
        [
         "279",
         "8.49",
         "40.0",
         "1"
        ],
        [
         "290",
         "8.38",
         "87.0",
         "0"
        ],
        [
         "327",
         "8.21",
         "56.0",
         "0"
        ],
        [
         "349",
         "8.12",
         "16.0",
         "0"
        ],
        [
         "404",
         "8.02",
         "35.0",
         "1"
        ],
        [
         "407",
         "8.23",
         "20.0",
         "1"
        ],
        [
         "423",
         "8.27",
         "26.0",
         "0"
        ],
        [
         "440",
         "8.56",
         "22.0",
         "0"
        ],
        [
         "485",
         "4.92",
         "44.0",
         "1"
        ],
        [
         "492",
         "8.5",
         "21.0",
         "1"
        ],
        [
         "568",
         "8.13",
         "4.0",
         "0"
        ],
        [
         "596",
         "8.48",
         "25.0",
         "1"
        ],
        [
         "614",
         "8.05",
         "41.0",
         "0"
        ],
        [
         "629",
         "8.15",
         "11.0",
         "1"
        ],
        [
         "684",
         "8.02",
         "67.0",
         "0"
        ],
        [
         "689",
         "8.02",
         "67.0",
         "0"
        ],
        [
         "761",
         "8.02",
         "6.0",
         "0"
        ],
        [
         "773",
         "8.06",
         "79.0",
         "0"
        ],
        [
         "797",
         "8.14",
         "20.0",
         "1"
        ],
        [
         "811",
         "8.04",
         "14.0",
         "0"
        ],
        [
         "850",
         "8.39",
         "37.0",
         "1"
        ],
        [
         "863",
         "8.04",
         "2.0",
         "1"
        ],
        [
         "867",
         "8.04",
         "26.0",
         "0"
        ],
        [
         "935",
         "8.12",
         "37.0",
         "1"
        ],
        [
         "964",
         "8.09",
         "54.0",
         "1"
        ],
        [
         "975",
         "8.43",
         "25.0",
         "1"
        ],
        [
         "981",
         "8.06",
         "37.0",
         "0"
        ],
        [
         "995",
         "8.87",
         "44.0",
         "1"
        ],
        [
         "996",
         "9.12",
         "65.0",
         "1"
        ],
        [
         "997",
         "4.89",
         "34.0",
         "0"
        ],
        [
         "998",
         "8.62",
         "46.0",
         "1"
        ],
        [
         "999",
         "4.9",
         "10.0",
         "1"
        ]
       ],
       "shape": {
        "columns": 3,
        "rows": 49
       }
      },
      "text/html": [
       "<div>\n",
       "<style scoped>\n",
       "    .dataframe tbody tr th:only-of-type {\n",
       "        vertical-align: middle;\n",
       "    }\n",
       "\n",
       "    .dataframe tbody tr th {\n",
       "        vertical-align: top;\n",
       "    }\n",
       "\n",
       "    .dataframe thead th {\n",
       "        text-align: right;\n",
       "    }\n",
       "</style>\n",
       "<table border=\"1\" class=\"dataframe\">\n",
       "  <thead>\n",
       "    <tr style=\"text-align: right;\">\n",
       "      <th></th>\n",
       "      <th>cgpa</th>\n",
       "      <th>placement_exam_marks</th>\n",
       "      <th>placed</th>\n",
       "    </tr>\n",
       "  </thead>\n",
       "  <tbody>\n",
       "    <tr>\n",
       "      <th>34</th>\n",
       "      <td>8.15</td>\n",
       "      <td>9.0</td>\n",
       "      <td>0</td>\n",
       "    </tr>\n",
       "    <tr>\n",
       "      <th>37</th>\n",
       "      <td>8.51</td>\n",
       "      <td>9.0</td>\n",
       "      <td>1</td>\n",
       "    </tr>\n",
       "    <tr>\n",
       "      <th>49</th>\n",
       "      <td>8.23</td>\n",
       "      <td>28.0</td>\n",
       "      <td>1</td>\n",
       "    </tr>\n",
       "    <tr>\n",
       "      <th>54</th>\n",
       "      <td>8.42</td>\n",
       "      <td>36.0</td>\n",
       "      <td>1</td>\n",
       "    </tr>\n",
       "    <tr>\n",
       "      <th>55</th>\n",
       "      <td>8.12</td>\n",
       "      <td>15.0</td>\n",
       "      <td>0</td>\n",
       "    </tr>\n",
       "    <tr>\n",
       "      <th>67</th>\n",
       "      <td>8.04</td>\n",
       "      <td>18.0</td>\n",
       "      <td>1</td>\n",
       "    </tr>\n",
       "    <tr>\n",
       "      <th>76</th>\n",
       "      <td>8.35</td>\n",
       "      <td>12.0</td>\n",
       "      <td>0</td>\n",
       "    </tr>\n",
       "    <tr>\n",
       "      <th>78</th>\n",
       "      <td>8.20</td>\n",
       "      <td>12.0</td>\n",
       "      <td>0</td>\n",
       "    </tr>\n",
       "    <tr>\n",
       "      <th>98</th>\n",
       "      <td>8.12</td>\n",
       "      <td>76.0</td>\n",
       "      <td>0</td>\n",
       "    </tr>\n",
       "    <tr>\n",
       "      <th>131</th>\n",
       "      <td>8.19</td>\n",
       "      <td>19.0</td>\n",
       "      <td>1</td>\n",
       "    </tr>\n",
       "    <tr>\n",
       "      <th>139</th>\n",
       "      <td>8.09</td>\n",
       "      <td>5.0</td>\n",
       "      <td>1</td>\n",
       "    </tr>\n",
       "    <tr>\n",
       "      <th>150</th>\n",
       "      <td>8.53</td>\n",
       "      <td>22.0</td>\n",
       "      <td>0</td>\n",
       "    </tr>\n",
       "    <tr>\n",
       "      <th>194</th>\n",
       "      <td>8.19</td>\n",
       "      <td>33.0</td>\n",
       "      <td>0</td>\n",
       "    </tr>\n",
       "    <tr>\n",
       "      <th>198</th>\n",
       "      <td>8.29</td>\n",
       "      <td>44.0</td>\n",
       "      <td>1</td>\n",
       "    </tr>\n",
       "    <tr>\n",
       "      <th>234</th>\n",
       "      <td>8.09</td>\n",
       "      <td>36.0</td>\n",
       "      <td>0</td>\n",
       "    </tr>\n",
       "    <tr>\n",
       "      <th>263</th>\n",
       "      <td>8.11</td>\n",
       "      <td>50.0</td>\n",
       "      <td>1</td>\n",
       "    </tr>\n",
       "    <tr>\n",
       "      <th>275</th>\n",
       "      <td>8.03</td>\n",
       "      <td>39.0</td>\n",
       "      <td>0</td>\n",
       "    </tr>\n",
       "    <tr>\n",
       "      <th>279</th>\n",
       "      <td>8.49</td>\n",
       "      <td>40.0</td>\n",
       "      <td>1</td>\n",
       "    </tr>\n",
       "    <tr>\n",
       "      <th>290</th>\n",
       "      <td>8.38</td>\n",
       "      <td>87.0</td>\n",
       "      <td>0</td>\n",
       "    </tr>\n",
       "    <tr>\n",
       "      <th>327</th>\n",
       "      <td>8.21</td>\n",
       "      <td>56.0</td>\n",
       "      <td>0</td>\n",
       "    </tr>\n",
       "    <tr>\n",
       "      <th>349</th>\n",
       "      <td>8.12</td>\n",
       "      <td>16.0</td>\n",
       "      <td>0</td>\n",
       "    </tr>\n",
       "    <tr>\n",
       "      <th>404</th>\n",
       "      <td>8.02</td>\n",
       "      <td>35.0</td>\n",
       "      <td>1</td>\n",
       "    </tr>\n",
       "    <tr>\n",
       "      <th>407</th>\n",
       "      <td>8.23</td>\n",
       "      <td>20.0</td>\n",
       "      <td>1</td>\n",
       "    </tr>\n",
       "    <tr>\n",
       "      <th>423</th>\n",
       "      <td>8.27</td>\n",
       "      <td>26.0</td>\n",
       "      <td>0</td>\n",
       "    </tr>\n",
       "    <tr>\n",
       "      <th>440</th>\n",
       "      <td>8.56</td>\n",
       "      <td>22.0</td>\n",
       "      <td>0</td>\n",
       "    </tr>\n",
       "    <tr>\n",
       "      <th>485</th>\n",
       "      <td>4.92</td>\n",
       "      <td>44.0</td>\n",
       "      <td>1</td>\n",
       "    </tr>\n",
       "    <tr>\n",
       "      <th>492</th>\n",
       "      <td>8.50</td>\n",
       "      <td>21.0</td>\n",
       "      <td>1</td>\n",
       "    </tr>\n",
       "    <tr>\n",
       "      <th>568</th>\n",
       "      <td>8.13</td>\n",
       "      <td>4.0</td>\n",
       "      <td>0</td>\n",
       "    </tr>\n",
       "    <tr>\n",
       "      <th>596</th>\n",
       "      <td>8.48</td>\n",
       "      <td>25.0</td>\n",
       "      <td>1</td>\n",
       "    </tr>\n",
       "    <tr>\n",
       "      <th>614</th>\n",
       "      <td>8.05</td>\n",
       "      <td>41.0</td>\n",
       "      <td>0</td>\n",
       "    </tr>\n",
       "    <tr>\n",
       "      <th>629</th>\n",
       "      <td>8.15</td>\n",
       "      <td>11.0</td>\n",
       "      <td>1</td>\n",
       "    </tr>\n",
       "    <tr>\n",
       "      <th>684</th>\n",
       "      <td>8.02</td>\n",
       "      <td>67.0</td>\n",
       "      <td>0</td>\n",
       "    </tr>\n",
       "    <tr>\n",
       "      <th>689</th>\n",
       "      <td>8.02</td>\n",
       "      <td>67.0</td>\n",
       "      <td>0</td>\n",
       "    </tr>\n",
       "    <tr>\n",
       "      <th>761</th>\n",
       "      <td>8.02</td>\n",
       "      <td>6.0</td>\n",
       "      <td>0</td>\n",
       "    </tr>\n",
       "    <tr>\n",
       "      <th>773</th>\n",
       "      <td>8.06</td>\n",
       "      <td>79.0</td>\n",
       "      <td>0</td>\n",
       "    </tr>\n",
       "    <tr>\n",
       "      <th>797</th>\n",
       "      <td>8.14</td>\n",
       "      <td>20.0</td>\n",
       "      <td>1</td>\n",
       "    </tr>\n",
       "    <tr>\n",
       "      <th>811</th>\n",
       "      <td>8.04</td>\n",
       "      <td>14.0</td>\n",
       "      <td>0</td>\n",
       "    </tr>\n",
       "    <tr>\n",
       "      <th>850</th>\n",
       "      <td>8.39</td>\n",
       "      <td>37.0</td>\n",
       "      <td>1</td>\n",
       "    </tr>\n",
       "    <tr>\n",
       "      <th>863</th>\n",
       "      <td>8.04</td>\n",
       "      <td>2.0</td>\n",
       "      <td>1</td>\n",
       "    </tr>\n",
       "    <tr>\n",
       "      <th>867</th>\n",
       "      <td>8.04</td>\n",
       "      <td>26.0</td>\n",
       "      <td>0</td>\n",
       "    </tr>\n",
       "    <tr>\n",
       "      <th>935</th>\n",
       "      <td>8.12</td>\n",
       "      <td>37.0</td>\n",
       "      <td>1</td>\n",
       "    </tr>\n",
       "    <tr>\n",
       "      <th>964</th>\n",
       "      <td>8.09</td>\n",
       "      <td>54.0</td>\n",
       "      <td>1</td>\n",
       "    </tr>\n",
       "    <tr>\n",
       "      <th>975</th>\n",
       "      <td>8.43</td>\n",
       "      <td>25.0</td>\n",
       "      <td>1</td>\n",
       "    </tr>\n",
       "    <tr>\n",
       "      <th>981</th>\n",
       "      <td>8.06</td>\n",
       "      <td>37.0</td>\n",
       "      <td>0</td>\n",
       "    </tr>\n",
       "    <tr>\n",
       "      <th>995</th>\n",
       "      <td>8.87</td>\n",
       "      <td>44.0</td>\n",
       "      <td>1</td>\n",
       "    </tr>\n",
       "    <tr>\n",
       "      <th>996</th>\n",
       "      <td>9.12</td>\n",
       "      <td>65.0</td>\n",
       "      <td>1</td>\n",
       "    </tr>\n",
       "    <tr>\n",
       "      <th>997</th>\n",
       "      <td>4.89</td>\n",
       "      <td>34.0</td>\n",
       "      <td>0</td>\n",
       "    </tr>\n",
       "    <tr>\n",
       "      <th>998</th>\n",
       "      <td>8.62</td>\n",
       "      <td>46.0</td>\n",
       "      <td>1</td>\n",
       "    </tr>\n",
       "    <tr>\n",
       "      <th>999</th>\n",
       "      <td>4.90</td>\n",
       "      <td>10.0</td>\n",
       "      <td>1</td>\n",
       "    </tr>\n",
       "  </tbody>\n",
       "</table>\n",
       "</div>"
      ],
      "text/plain": [
       "     cgpa  placement_exam_marks  placed\n",
       "34   8.15                   9.0       0\n",
       "37   8.51                   9.0       1\n",
       "49   8.23                  28.0       1\n",
       "54   8.42                  36.0       1\n",
       "55   8.12                  15.0       0\n",
       "67   8.04                  18.0       1\n",
       "76   8.35                  12.0       0\n",
       "78   8.20                  12.0       0\n",
       "98   8.12                  76.0       0\n",
       "131  8.19                  19.0       1\n",
       "139  8.09                   5.0       1\n",
       "150  8.53                  22.0       0\n",
       "194  8.19                  33.0       0\n",
       "198  8.29                  44.0       1\n",
       "234  8.09                  36.0       0\n",
       "263  8.11                  50.0       1\n",
       "275  8.03                  39.0       0\n",
       "279  8.49                  40.0       1\n",
       "290  8.38                  87.0       0\n",
       "327  8.21                  56.0       0\n",
       "349  8.12                  16.0       0\n",
       "404  8.02                  35.0       1\n",
       "407  8.23                  20.0       1\n",
       "423  8.27                  26.0       0\n",
       "440  8.56                  22.0       0\n",
       "485  4.92                  44.0       1\n",
       "492  8.50                  21.0       1\n",
       "568  8.13                   4.0       0\n",
       "596  8.48                  25.0       1\n",
       "614  8.05                  41.0       0\n",
       "629  8.15                  11.0       1\n",
       "684  8.02                  67.0       0\n",
       "689  8.02                  67.0       0\n",
       "761  8.02                   6.0       0\n",
       "773  8.06                  79.0       0\n",
       "797  8.14                  20.0       1\n",
       "811  8.04                  14.0       0\n",
       "850  8.39                  37.0       1\n",
       "863  8.04                   2.0       1\n",
       "867  8.04                  26.0       0\n",
       "935  8.12                  37.0       1\n",
       "964  8.09                  54.0       1\n",
       "975  8.43                  25.0       1\n",
       "981  8.06                  37.0       0\n",
       "995  8.87                  44.0       1\n",
       "996  9.12                  65.0       1\n",
       "997  4.89                  34.0       0\n",
       "998  8.62                  46.0       1\n",
       "999  4.90                  10.0       1"
      ]
     },
     "execution_count": 26,
     "metadata": {},
     "output_type": "execute_result"
    }
   ],
   "source": [
    "# Finding the outliers\n",
    "\n",
    "df[(df['cgpa']>8.00) | (df['cgpa']<5.11)]"
   ]
  },
  {
   "cell_type": "code",
   "execution_count": 27,
   "id": "a98ecbc6",
   "metadata": {},
   "outputs": [],
   "source": [
    "\n",
    "# For trimming \n",
    "\n",
    "new_df=df[(df['cgpa']<8.0) & (df['cgpa']>5.11)]"
   ]
  },
  {
   "cell_type": "code",
   "execution_count": null,
   "id": "1b54bd78",
   "metadata": {},
   "outputs": [
    {
     "data": {
      "application/vnd.microsoft.datawrangler.viewer.v0+json": {
       "columns": [
        {
         "name": "index",
         "rawType": "int64",
         "type": "integer"
        },
        {
         "name": "cgpa",
         "rawType": "float64",
         "type": "float"
        },
        {
         "name": "placement_exam_marks",
         "rawType": "float64",
         "type": "float"
        },
        {
         "name": "placed",
         "rawType": "int64",
         "type": "integer"
        }
       ],
       "ref": "914cad45-292c-4ff8-b562-88504f7f5f59",
       "rows": [
        [
         "0",
         "7.19",
         "26.0",
         "1"
        ],
        [
         "1",
         "7.46",
         "38.0",
         "1"
        ],
        [
         "2",
         "7.54",
         "40.0",
         "1"
        ],
        [
         "3",
         "6.42",
         "8.0",
         "1"
        ],
        [
         "4",
         "7.23",
         "17.0",
         "0"
        ],
        [
         "5",
         "7.3",
         "23.0",
         "1"
        ],
        [
         "6",
         "6.69",
         "11.0",
         "0"
        ],
        [
         "7",
         "7.12",
         "39.0",
         "1"
        ],
        [
         "8",
         "6.45",
         "38.0",
         "0"
        ],
        [
         "9",
         "7.75",
         "94.0",
         "1"
        ],
        [
         "10",
         "6.82",
         "16.0",
         "1"
        ],
        [
         "11",
         "6.38",
         "7.0",
         "1"
        ],
        [
         "12",
         "6.58",
         "16.0",
         "1"
        ],
        [
         "13",
         "5.68",
         "26.0",
         "0"
        ],
        [
         "14",
         "7.91",
         "43.0",
         "0"
        ],
        [
         "15",
         "7.1",
         "21.0",
         "0"
        ],
        [
         "16",
         "6.53",
         "19.0",
         "0"
        ],
        [
         "17",
         "7.56",
         "22.0",
         "1"
        ],
        [
         "18",
         "6.93",
         "27.0",
         "0"
        ],
        [
         "19",
         "7.63",
         "29.0",
         "0"
        ],
        [
         "20",
         "6.69",
         "47.0",
         "0"
        ],
        [
         "21",
         "7.43",
         "33.0",
         "1"
        ],
        [
         "22",
         "6.76",
         "54.0",
         "1"
        ],
        [
         "23",
         "6.05",
         "11.0",
         "0"
        ],
        [
         "24",
         "6.44",
         "11.0",
         "0"
        ],
        [
         "25",
         "6.28",
         "58.0",
         "1"
        ],
        [
         "26",
         "7.45",
         "8.0",
         "1"
        ],
        [
         "27",
         "6.53",
         "46.0",
         "0"
        ],
        [
         "28",
         "7.23",
         "19.0",
         "0"
        ],
        [
         "29",
         "6.51",
         "15.0",
         "1"
        ],
        [
         "30",
         "7.46",
         "16.0",
         "0"
        ],
        [
         "31",
         "7.66",
         "44.0",
         "0"
        ],
        [
         "32",
         "5.91",
         "11.0",
         "1"
        ],
        [
         "33",
         "6.23",
         "27.0",
         "0"
        ],
        [
         "35",
         "7.48",
         "12.0",
         "0"
        ],
        [
         "36",
         "6.85",
         "16.0",
         "1"
        ],
        [
         "38",
         "6.58",
         "20.0",
         "1"
        ],
        [
         "39",
         "7.25",
         "17.0",
         "0"
        ],
        [
         "40",
         "6.6",
         "86.0",
         "1"
        ],
        [
         "41",
         "6.7",
         "38.0",
         "0"
        ],
        [
         "42",
         "7.46",
         "71.0",
         "1"
        ],
        [
         "43",
         "7.85",
         "63.0",
         "0"
        ],
        [
         "44",
         "7.88",
         "55.0",
         "0"
        ],
        [
         "45",
         "6.92",
         "10.0",
         "1"
        ],
        [
         "46",
         "7.3",
         "15.0",
         "0"
        ],
        [
         "47",
         "6.92",
         "46.0",
         "0"
        ],
        [
         "48",
         "6.29",
         "42.0",
         "0"
        ],
        [
         "50",
         "6.2",
         "18.0",
         "1"
        ],
        [
         "51",
         "6.24",
         "28.0",
         "1"
        ],
        [
         "52",
         "7.53",
         "27.0",
         "1"
        ]
       ],
       "shape": {
        "columns": 3,
        "rows": 950
       }
      },
      "text/html": [
       "<div>\n",
       "<style scoped>\n",
       "    .dataframe tbody tr th:only-of-type {\n",
       "        vertical-align: middle;\n",
       "    }\n",
       "\n",
       "    .dataframe tbody tr th {\n",
       "        vertical-align: top;\n",
       "    }\n",
       "\n",
       "    .dataframe thead th {\n",
       "        text-align: right;\n",
       "    }\n",
       "</style>\n",
       "<table border=\"1\" class=\"dataframe\">\n",
       "  <thead>\n",
       "    <tr style=\"text-align: right;\">\n",
       "      <th></th>\n",
       "      <th>cgpa</th>\n",
       "      <th>placement_exam_marks</th>\n",
       "      <th>placed</th>\n",
       "    </tr>\n",
       "  </thead>\n",
       "  <tbody>\n",
       "    <tr>\n",
       "      <th>0</th>\n",
       "      <td>7.19</td>\n",
       "      <td>26.0</td>\n",
       "      <td>1</td>\n",
       "    </tr>\n",
       "    <tr>\n",
       "      <th>1</th>\n",
       "      <td>7.46</td>\n",
       "      <td>38.0</td>\n",
       "      <td>1</td>\n",
       "    </tr>\n",
       "    <tr>\n",
       "      <th>2</th>\n",
       "      <td>7.54</td>\n",
       "      <td>40.0</td>\n",
       "      <td>1</td>\n",
       "    </tr>\n",
       "    <tr>\n",
       "      <th>3</th>\n",
       "      <td>6.42</td>\n",
       "      <td>8.0</td>\n",
       "      <td>1</td>\n",
       "    </tr>\n",
       "    <tr>\n",
       "      <th>4</th>\n",
       "      <td>7.23</td>\n",
       "      <td>17.0</td>\n",
       "      <td>0</td>\n",
       "    </tr>\n",
       "    <tr>\n",
       "      <th>...</th>\n",
       "      <td>...</td>\n",
       "      <td>...</td>\n",
       "      <td>...</td>\n",
       "    </tr>\n",
       "    <tr>\n",
       "      <th>990</th>\n",
       "      <td>6.17</td>\n",
       "      <td>33.0</td>\n",
       "      <td>1</td>\n",
       "    </tr>\n",
       "    <tr>\n",
       "      <th>991</th>\n",
       "      <td>7.04</td>\n",
       "      <td>57.0</td>\n",
       "      <td>0</td>\n",
       "    </tr>\n",
       "    <tr>\n",
       "      <th>992</th>\n",
       "      <td>6.26</td>\n",
       "      <td>12.0</td>\n",
       "      <td>0</td>\n",
       "    </tr>\n",
       "    <tr>\n",
       "      <th>993</th>\n",
       "      <td>6.73</td>\n",
       "      <td>21.0</td>\n",
       "      <td>1</td>\n",
       "    </tr>\n",
       "    <tr>\n",
       "      <th>994</th>\n",
       "      <td>6.48</td>\n",
       "      <td>63.0</td>\n",
       "      <td>0</td>\n",
       "    </tr>\n",
       "  </tbody>\n",
       "</table>\n",
       "<p>950 rows × 3 columns</p>\n",
       "</div>"
      ],
      "text/plain": [
       "     cgpa  placement_exam_marks  placed\n",
       "0    7.19                  26.0       1\n",
       "1    7.46                  38.0       1\n",
       "2    7.54                  40.0       1\n",
       "3    6.42                   8.0       1\n",
       "4    7.23                  17.0       0\n",
       "..    ...                   ...     ...\n",
       "990  6.17                  33.0       1\n",
       "991  7.04                  57.0       0\n",
       "992  6.26                  12.0       0\n",
       "993  6.73                  21.0       1\n",
       "994  6.48                  63.0       0\n",
       "\n",
       "[950 rows x 3 columns]"
      ]
     },
     "execution_count": 28,
     "metadata": {},
     "output_type": "execute_result"
    }
   ],
   "source": [
    "# New dataset without outliear\n",
    "new_df"
   ]
  },
  {
   "cell_type": "code",
   "execution_count": 29,
   "id": "e80da392",
   "metadata": {},
   "outputs": [],
   "source": [
    "# 2 Method\n",
    "\n",
    "#Calculate the Z-score\n",
    "\n",
    "df['cgpa_zscore']=(df['cgpa'] - df['cgpa'].mean())/df['cgpa'].std()"
   ]
  },
  {
   "cell_type": "code",
   "execution_count": null,
   "id": "38c98341",
   "metadata": {},
   "outputs": [
    {
     "data": {
      "application/vnd.microsoft.datawrangler.viewer.v0+json": {
       "columns": [
        {
         "name": "index",
         "rawType": "int64",
         "type": "integer"
        },
        {
         "name": "cgpa_zscore",
         "rawType": "float64",
         "type": "float"
        }
       ],
       "ref": "a696726a-f4c8-4bc6-a100-0dcf65f5399b",
       "rows": [
        [
         "0",
         "0.37142521388116084"
        ],
        [
         "1",
         "0.8098095806756753"
        ],
        [
         "2",
         "0.9397012449110874"
        ],
        [
         "3",
         "-0.8787820543846796"
        ],
        [
         "4",
         "0.43637104599886684"
        ],
        [
         "5",
         "0.5500262522048514"
        ],
        [
         "6",
         "-0.4403976875901636"
        ],
        [
         "7",
         "0.25777000767517494"
        ],
        [
         "8",
         "-0.8300726802963997"
        ],
        [
         "9",
         "1.2806668635290437"
        ],
        [
         "10",
         "-0.22932373320761942"
        ],
        [
         "11",
         "-0.9437278865023856"
        ],
        [
         "12",
         "-0.6189987259138555"
        ],
        [
         "13",
         "-2.0802799485622403"
        ],
        [
         "14",
         "1.5404501919998677"
        ],
        [
         "15",
         "0.22529709161632122"
        ],
        [
         "16",
         "-0.7001810160609877"
        ],
        [
         "17",
         "0.9721741609699397"
        ],
        [
         "18",
         "-0.050722694883928963"
        ],
        [
         "19",
         "1.0858293671759256"
        ],
        [
         "20",
         "-0.4403976875901636"
        ],
        [
         "21",
         "0.7611002065873955"
        ],
        [
         "22",
         "-0.32674248138417916"
        ],
        [
         "23",
         "-1.4795310014734597"
        ],
        [
         "24",
         "-0.8463091383258259"
        ],
        [
         "25",
         "-1.1060924667966499"
        ],
        [
         "26",
         "0.7935731226462492"
        ],
        [
         "27",
         "-0.7001810160609877"
        ],
        [
         "28",
         "0.43637104599886684"
        ],
        [
         "29",
         "-0.7326539321198414"
        ],
        [
         "30",
         "0.8098095806756753"
        ],
        [
         "31",
         "1.1345387412642054"
        ],
        [
         "32",
         "-1.7068414138854302"
        ],
        [
         "33",
         "-1.187274756943782"
        ],
        [
         "34",
         "1.9301251847061038"
        ],
        [
         "35",
         "0.842282496734529"
        ],
        [
         "36",
         "-0.18061435911934098"
        ],
        [
         "37",
         "2.5146376737654563"
        ],
        [
         "38",
         "-0.6189987259138555"
        ],
        [
         "39",
         "0.46884396205771917"
        ],
        [
         "40",
         "-0.5865258098550032"
        ],
        [
         "41",
         "-0.4241612295607375"
        ],
        [
         "42",
         "0.8098095806756753"
        ],
        [
         "43",
         "1.4430314438233078"
        ],
        [
         "44",
         "1.4917408179115879"
        ],
        [
         "45",
         "-0.06695915291335511"
        ],
        [
         "46",
         "0.5500262522048514"
        ],
        [
         "47",
         "-0.06695915291335511"
        ],
        [
         "48",
         "-1.0898560087672238"
        ],
        [
         "49",
         "2.060016848941516"
        ]
       ],
       "shape": {
        "columns": 1,
        "rows": 1000
       }
      },
      "text/plain": [
       "0      0.371425\n",
       "1      0.809810\n",
       "2      0.939701\n",
       "3     -0.878782\n",
       "4      0.436371\n",
       "         ...   \n",
       "995    3.099150\n",
       "996    3.505062\n",
       "997   -3.362960\n",
       "998    2.693239\n",
       "999   -3.346724\n",
       "Name: cgpa_zscore, Length: 1000, dtype: float64"
      ]
     },
     "execution_count": 30,
     "metadata": {},
     "output_type": "execute_result"
    }
   ],
   "source": [
    "df['cgpa_zscore']"
   ]
  },
  {
   "cell_type": "code",
   "execution_count": 32,
   "id": "c4e33e48",
   "metadata": {},
   "outputs": [
    {
     "name": "stdout",
     "output_type": "stream",
     "text": [
      "max:  3.5050616135604713\n",
      "Min  -3.3629601328869327\n"
     ]
    }
   ],
   "source": [
    "print(\"max: \",df['cgpa_zscore'].max())\n",
    "print(\"Min \",df['cgpa_zscore'].min())"
   ]
  },
  {
   "cell_type": "code",
   "execution_count": 34,
   "id": "f9fc9cbf",
   "metadata": {},
   "outputs": [
    {
     "data": {
      "application/vnd.microsoft.datawrangler.viewer.v0+json": {
       "columns": [
        {
         "name": "index",
         "rawType": "int64",
         "type": "integer"
        },
        {
         "name": "cgpa",
         "rawType": "float64",
         "type": "float"
        },
        {
         "name": "placement_exam_marks",
         "rawType": "float64",
         "type": "float"
        },
        {
         "name": "placed",
         "rawType": "int64",
         "type": "integer"
        },
        {
         "name": "cgpa_zscore",
         "rawType": "float64",
         "type": "float"
        }
       ],
       "ref": "1dc2d30a-8b6f-4109-9acc-b6c83c838cda",
       "rows": [
        [
         "995",
         "8.87",
         "44.0",
         "1",
         "3.099150162824809"
        ],
        [
         "996",
         "9.12",
         "65.0",
         "1",
         "3.5050616135604713"
        ]
       ],
       "shape": {
        "columns": 4,
        "rows": 2
       }
      },
      "text/html": [
       "<div>\n",
       "<style scoped>\n",
       "    .dataframe tbody tr th:only-of-type {\n",
       "        vertical-align: middle;\n",
       "    }\n",
       "\n",
       "    .dataframe tbody tr th {\n",
       "        vertical-align: top;\n",
       "    }\n",
       "\n",
       "    .dataframe thead th {\n",
       "        text-align: right;\n",
       "    }\n",
       "</style>\n",
       "<table border=\"1\" class=\"dataframe\">\n",
       "  <thead>\n",
       "    <tr style=\"text-align: right;\">\n",
       "      <th></th>\n",
       "      <th>cgpa</th>\n",
       "      <th>placement_exam_marks</th>\n",
       "      <th>placed</th>\n",
       "      <th>cgpa_zscore</th>\n",
       "    </tr>\n",
       "  </thead>\n",
       "  <tbody>\n",
       "    <tr>\n",
       "      <th>995</th>\n",
       "      <td>8.87</td>\n",
       "      <td>44.0</td>\n",
       "      <td>1</td>\n",
       "      <td>3.099150</td>\n",
       "    </tr>\n",
       "    <tr>\n",
       "      <th>996</th>\n",
       "      <td>9.12</td>\n",
       "      <td>65.0</td>\n",
       "      <td>1</td>\n",
       "      <td>3.505062</td>\n",
       "    </tr>\n",
       "  </tbody>\n",
       "</table>\n",
       "</div>"
      ],
      "text/plain": [
       "     cgpa  placement_exam_marks  placed  cgpa_zscore\n",
       "995  8.87                  44.0       1     3.099150\n",
       "996  9.12                  65.0       1     3.505062"
      ]
     },
     "execution_count": 34,
     "metadata": {},
     "output_type": "execute_result"
    }
   ],
   "source": [
    "df[df['cgpa_zscore']>3]"
   ]
  },
  {
   "cell_type": "code",
   "execution_count": 35,
   "id": "e6fd3b94",
   "metadata": {},
   "outputs": [
    {
     "data": {
      "application/vnd.microsoft.datawrangler.viewer.v0+json": {
       "columns": [
        {
         "name": "index",
         "rawType": "int64",
         "type": "integer"
        },
        {
         "name": "cgpa",
         "rawType": "float64",
         "type": "float"
        },
        {
         "name": "placement_exam_marks",
         "rawType": "float64",
         "type": "float"
        },
        {
         "name": "placed",
         "rawType": "int64",
         "type": "integer"
        },
        {
         "name": "cgpa_zscore",
         "rawType": "float64",
         "type": "float"
        }
       ],
       "ref": "6e920cef-bc70-4c2c-9558-ea996e82b7a6",
       "rows": [
        [
         "485",
         "4.92",
         "44.0",
         "1",
         "-3.3142507587986527"
        ],
        [
         "997",
         "4.89",
         "34.0",
         "0",
         "-3.3629601328869327"
        ],
        [
         "999",
         "4.9",
         "10.0",
         "1",
         "-3.3467236748575053"
        ]
       ],
       "shape": {
        "columns": 4,
        "rows": 3
       }
      },
      "text/html": [
       "<div>\n",
       "<style scoped>\n",
       "    .dataframe tbody tr th:only-of-type {\n",
       "        vertical-align: middle;\n",
       "    }\n",
       "\n",
       "    .dataframe tbody tr th {\n",
       "        vertical-align: top;\n",
       "    }\n",
       "\n",
       "    .dataframe thead th {\n",
       "        text-align: right;\n",
       "    }\n",
       "</style>\n",
       "<table border=\"1\" class=\"dataframe\">\n",
       "  <thead>\n",
       "    <tr style=\"text-align: right;\">\n",
       "      <th></th>\n",
       "      <th>cgpa</th>\n",
       "      <th>placement_exam_marks</th>\n",
       "      <th>placed</th>\n",
       "      <th>cgpa_zscore</th>\n",
       "    </tr>\n",
       "  </thead>\n",
       "  <tbody>\n",
       "    <tr>\n",
       "      <th>485</th>\n",
       "      <td>4.92</td>\n",
       "      <td>44.0</td>\n",
       "      <td>1</td>\n",
       "      <td>-3.314251</td>\n",
       "    </tr>\n",
       "    <tr>\n",
       "      <th>997</th>\n",
       "      <td>4.89</td>\n",
       "      <td>34.0</td>\n",
       "      <td>0</td>\n",
       "      <td>-3.362960</td>\n",
       "    </tr>\n",
       "    <tr>\n",
       "      <th>999</th>\n",
       "      <td>4.90</td>\n",
       "      <td>10.0</td>\n",
       "      <td>1</td>\n",
       "      <td>-3.346724</td>\n",
       "    </tr>\n",
       "  </tbody>\n",
       "</table>\n",
       "</div>"
      ],
      "text/plain": [
       "     cgpa  placement_exam_marks  placed  cgpa_zscore\n",
       "485  4.92                  44.0       1    -3.314251\n",
       "997  4.89                  34.0       0    -3.362960\n",
       "999  4.90                  10.0       1    -3.346724"
      ]
     },
     "execution_count": 35,
     "metadata": {},
     "output_type": "execute_result"
    }
   ],
   "source": [
    "df[df['cgpa_zscore']<-3]"
   ]
  },
  {
   "cell_type": "code",
   "execution_count": 36,
   "id": "30fc909f",
   "metadata": {},
   "outputs": [
    {
     "data": {
      "application/vnd.microsoft.datawrangler.viewer.v0+json": {
       "columns": [
        {
         "name": "index",
         "rawType": "int64",
         "type": "integer"
        },
        {
         "name": "cgpa",
         "rawType": "float64",
         "type": "float"
        },
        {
         "name": "placement_exam_marks",
         "rawType": "float64",
         "type": "float"
        },
        {
         "name": "placed",
         "rawType": "int64",
         "type": "integer"
        },
        {
         "name": "cgpa_zscore",
         "rawType": "float64",
         "type": "float"
        }
       ],
       "ref": "16133dc9-d93e-4921-bb2a-2ffa7752c07c",
       "rows": [
        [
         "485",
         "4.92",
         "44.0",
         "1",
         "-3.3142507587986527"
        ],
        [
         "995",
         "8.87",
         "44.0",
         "1",
         "3.099150162824809"
        ],
        [
         "996",
         "9.12",
         "65.0",
         "1",
         "3.5050616135604713"
        ],
        [
         "997",
         "4.89",
         "34.0",
         "0",
         "-3.3629601328869327"
        ],
        [
         "999",
         "4.9",
         "10.0",
         "1",
         "-3.3467236748575053"
        ]
       ],
       "shape": {
        "columns": 4,
        "rows": 5
       }
      },
      "text/html": [
       "<div>\n",
       "<style scoped>\n",
       "    .dataframe tbody tr th:only-of-type {\n",
       "        vertical-align: middle;\n",
       "    }\n",
       "\n",
       "    .dataframe tbody tr th {\n",
       "        vertical-align: top;\n",
       "    }\n",
       "\n",
       "    .dataframe thead th {\n",
       "        text-align: right;\n",
       "    }\n",
       "</style>\n",
       "<table border=\"1\" class=\"dataframe\">\n",
       "  <thead>\n",
       "    <tr style=\"text-align: right;\">\n",
       "      <th></th>\n",
       "      <th>cgpa</th>\n",
       "      <th>placement_exam_marks</th>\n",
       "      <th>placed</th>\n",
       "      <th>cgpa_zscore</th>\n",
       "    </tr>\n",
       "  </thead>\n",
       "  <tbody>\n",
       "    <tr>\n",
       "      <th>485</th>\n",
       "      <td>4.92</td>\n",
       "      <td>44.0</td>\n",
       "      <td>1</td>\n",
       "      <td>-3.314251</td>\n",
       "    </tr>\n",
       "    <tr>\n",
       "      <th>995</th>\n",
       "      <td>8.87</td>\n",
       "      <td>44.0</td>\n",
       "      <td>1</td>\n",
       "      <td>3.099150</td>\n",
       "    </tr>\n",
       "    <tr>\n",
       "      <th>996</th>\n",
       "      <td>9.12</td>\n",
       "      <td>65.0</td>\n",
       "      <td>1</td>\n",
       "      <td>3.505062</td>\n",
       "    </tr>\n",
       "    <tr>\n",
       "      <th>997</th>\n",
       "      <td>4.89</td>\n",
       "      <td>34.0</td>\n",
       "      <td>0</td>\n",
       "      <td>-3.362960</td>\n",
       "    </tr>\n",
       "    <tr>\n",
       "      <th>999</th>\n",
       "      <td>4.90</td>\n",
       "      <td>10.0</td>\n",
       "      <td>1</td>\n",
       "      <td>-3.346724</td>\n",
       "    </tr>\n",
       "  </tbody>\n",
       "</table>\n",
       "</div>"
      ],
      "text/plain": [
       "     cgpa  placement_exam_marks  placed  cgpa_zscore\n",
       "485  4.92                  44.0       1    -3.314251\n",
       "995  8.87                  44.0       1     3.099150\n",
       "996  9.12                  65.0       1     3.505062\n",
       "997  4.89                  34.0       0    -3.362960\n",
       "999  4.90                  10.0       1    -3.346724"
      ]
     },
     "execution_count": 36,
     "metadata": {},
     "output_type": "execute_result"
    }
   ],
   "source": [
    "df[(df['cgpa_zscore']>3) | (df['cgpa_zscore'] <-3)]"
   ]
  },
  {
   "cell_type": "code",
   "execution_count": 40,
   "id": "4a70b6bd",
   "metadata": {},
   "outputs": [],
   "source": [
    "# Trimming this 5 student from this dataset because it is Outliears\n",
    "new_df_2=df[(df['cgpa_zscore']<3) & (df['cgpa_zscore']>-3)]"
   ]
  },
  {
   "cell_type": "code",
   "execution_count": 41,
   "id": "81cd1a8a",
   "metadata": {},
   "outputs": [
    {
     "data": {
      "application/vnd.microsoft.datawrangler.viewer.v0+json": {
       "columns": [
        {
         "name": "index",
         "rawType": "int64",
         "type": "integer"
        },
        {
         "name": "cgpa",
         "rawType": "float64",
         "type": "float"
        },
        {
         "name": "placement_exam_marks",
         "rawType": "float64",
         "type": "float"
        },
        {
         "name": "placed",
         "rawType": "int64",
         "type": "integer"
        },
        {
         "name": "cgpa_zscore",
         "rawType": "float64",
         "type": "float"
        }
       ],
       "ref": "d5817ac5-2f62-49e3-bc81-e8feddee8113",
       "rows": [
        [
         "0",
         "7.19",
         "26.0",
         "1",
         "0.37142521388116084"
        ],
        [
         "1",
         "7.46",
         "38.0",
         "1",
         "0.8098095806756753"
        ],
        [
         "2",
         "7.54",
         "40.0",
         "1",
         "0.9397012449110874"
        ],
        [
         "3",
         "6.42",
         "8.0",
         "1",
         "-0.8787820543846796"
        ],
        [
         "4",
         "7.23",
         "17.0",
         "0",
         "0.43637104599886684"
        ],
        [
         "5",
         "7.3",
         "23.0",
         "1",
         "0.5500262522048514"
        ],
        [
         "6",
         "6.69",
         "11.0",
         "0",
         "-0.4403976875901636"
        ],
        [
         "7",
         "7.12",
         "39.0",
         "1",
         "0.25777000767517494"
        ],
        [
         "8",
         "6.45",
         "38.0",
         "0",
         "-0.8300726802963997"
        ],
        [
         "9",
         "7.75",
         "94.0",
         "1",
         "1.2806668635290437"
        ],
        [
         "10",
         "6.82",
         "16.0",
         "1",
         "-0.22932373320761942"
        ],
        [
         "11",
         "6.38",
         "7.0",
         "1",
         "-0.9437278865023856"
        ],
        [
         "12",
         "6.58",
         "16.0",
         "1",
         "-0.6189987259138555"
        ],
        [
         "13",
         "5.68",
         "26.0",
         "0",
         "-2.0802799485622403"
        ],
        [
         "14",
         "7.91",
         "43.0",
         "0",
         "1.5404501919998677"
        ],
        [
         "15",
         "7.1",
         "21.0",
         "0",
         "0.22529709161632122"
        ],
        [
         "16",
         "6.53",
         "19.0",
         "0",
         "-0.7001810160609877"
        ],
        [
         "17",
         "7.56",
         "22.0",
         "1",
         "0.9721741609699397"
        ],
        [
         "18",
         "6.93",
         "27.0",
         "0",
         "-0.050722694883928963"
        ],
        [
         "19",
         "7.63",
         "29.0",
         "0",
         "1.0858293671759256"
        ],
        [
         "20",
         "6.69",
         "47.0",
         "0",
         "-0.4403976875901636"
        ],
        [
         "21",
         "7.43",
         "33.0",
         "1",
         "0.7611002065873955"
        ],
        [
         "22",
         "6.76",
         "54.0",
         "1",
         "-0.32674248138417916"
        ],
        [
         "23",
         "6.05",
         "11.0",
         "0",
         "-1.4795310014734597"
        ],
        [
         "24",
         "6.44",
         "11.0",
         "0",
         "-0.8463091383258259"
        ],
        [
         "25",
         "6.28",
         "58.0",
         "1",
         "-1.1060924667966499"
        ],
        [
         "26",
         "7.45",
         "8.0",
         "1",
         "0.7935731226462492"
        ],
        [
         "27",
         "6.53",
         "46.0",
         "0",
         "-0.7001810160609877"
        ],
        [
         "28",
         "7.23",
         "19.0",
         "0",
         "0.43637104599886684"
        ],
        [
         "29",
         "6.51",
         "15.0",
         "1",
         "-0.7326539321198414"
        ],
        [
         "30",
         "7.46",
         "16.0",
         "0",
         "0.8098095806756753"
        ],
        [
         "31",
         "7.66",
         "44.0",
         "0",
         "1.1345387412642054"
        ],
        [
         "32",
         "5.91",
         "11.0",
         "1",
         "-1.7068414138854302"
        ],
        [
         "33",
         "6.23",
         "27.0",
         "0",
         "-1.187274756943782"
        ],
        [
         "34",
         "8.15",
         "9.0",
         "0",
         "1.9301251847061038"
        ],
        [
         "35",
         "7.48",
         "12.0",
         "0",
         "0.842282496734529"
        ],
        [
         "36",
         "6.85",
         "16.0",
         "1",
         "-0.18061435911934098"
        ],
        [
         "37",
         "8.51",
         "9.0",
         "1",
         "2.5146376737654563"
        ],
        [
         "38",
         "6.58",
         "20.0",
         "1",
         "-0.6189987259138555"
        ],
        [
         "39",
         "7.25",
         "17.0",
         "0",
         "0.46884396205771917"
        ],
        [
         "40",
         "6.6",
         "86.0",
         "1",
         "-0.5865258098550032"
        ],
        [
         "41",
         "6.7",
         "38.0",
         "0",
         "-0.4241612295607375"
        ],
        [
         "42",
         "7.46",
         "71.0",
         "1",
         "0.8098095806756753"
        ],
        [
         "43",
         "7.85",
         "63.0",
         "0",
         "1.4430314438233078"
        ],
        [
         "44",
         "7.88",
         "55.0",
         "0",
         "1.4917408179115879"
        ],
        [
         "45",
         "6.92",
         "10.0",
         "1",
         "-0.06695915291335511"
        ],
        [
         "46",
         "7.3",
         "15.0",
         "0",
         "0.5500262522048514"
        ],
        [
         "47",
         "6.92",
         "46.0",
         "0",
         "-0.06695915291335511"
        ],
        [
         "48",
         "6.29",
         "42.0",
         "0",
         "-1.0898560087672238"
        ],
        [
         "49",
         "8.23",
         "28.0",
         "1",
         "2.060016848941516"
        ]
       ],
       "shape": {
        "columns": 4,
        "rows": 995
       }
      },
      "text/html": [
       "<div>\n",
       "<style scoped>\n",
       "    .dataframe tbody tr th:only-of-type {\n",
       "        vertical-align: middle;\n",
       "    }\n",
       "\n",
       "    .dataframe tbody tr th {\n",
       "        vertical-align: top;\n",
       "    }\n",
       "\n",
       "    .dataframe thead th {\n",
       "        text-align: right;\n",
       "    }\n",
       "</style>\n",
       "<table border=\"1\" class=\"dataframe\">\n",
       "  <thead>\n",
       "    <tr style=\"text-align: right;\">\n",
       "      <th></th>\n",
       "      <th>cgpa</th>\n",
       "      <th>placement_exam_marks</th>\n",
       "      <th>placed</th>\n",
       "      <th>cgpa_zscore</th>\n",
       "    </tr>\n",
       "  </thead>\n",
       "  <tbody>\n",
       "    <tr>\n",
       "      <th>0</th>\n",
       "      <td>7.19</td>\n",
       "      <td>26.0</td>\n",
       "      <td>1</td>\n",
       "      <td>0.371425</td>\n",
       "    </tr>\n",
       "    <tr>\n",
       "      <th>1</th>\n",
       "      <td>7.46</td>\n",
       "      <td>38.0</td>\n",
       "      <td>1</td>\n",
       "      <td>0.809810</td>\n",
       "    </tr>\n",
       "    <tr>\n",
       "      <th>2</th>\n",
       "      <td>7.54</td>\n",
       "      <td>40.0</td>\n",
       "      <td>1</td>\n",
       "      <td>0.939701</td>\n",
       "    </tr>\n",
       "    <tr>\n",
       "      <th>3</th>\n",
       "      <td>6.42</td>\n",
       "      <td>8.0</td>\n",
       "      <td>1</td>\n",
       "      <td>-0.878782</td>\n",
       "    </tr>\n",
       "    <tr>\n",
       "      <th>4</th>\n",
       "      <td>7.23</td>\n",
       "      <td>17.0</td>\n",
       "      <td>0</td>\n",
       "      <td>0.436371</td>\n",
       "    </tr>\n",
       "    <tr>\n",
       "      <th>...</th>\n",
       "      <td>...</td>\n",
       "      <td>...</td>\n",
       "      <td>...</td>\n",
       "      <td>...</td>\n",
       "    </tr>\n",
       "    <tr>\n",
       "      <th>991</th>\n",
       "      <td>7.04</td>\n",
       "      <td>57.0</td>\n",
       "      <td>0</td>\n",
       "      <td>0.127878</td>\n",
       "    </tr>\n",
       "    <tr>\n",
       "      <th>992</th>\n",
       "      <td>6.26</td>\n",
       "      <td>12.0</td>\n",
       "      <td>0</td>\n",
       "      <td>-1.138565</td>\n",
       "    </tr>\n",
       "    <tr>\n",
       "      <th>993</th>\n",
       "      <td>6.73</td>\n",
       "      <td>21.0</td>\n",
       "      <td>1</td>\n",
       "      <td>-0.375452</td>\n",
       "    </tr>\n",
       "    <tr>\n",
       "      <th>994</th>\n",
       "      <td>6.48</td>\n",
       "      <td>63.0</td>\n",
       "      <td>0</td>\n",
       "      <td>-0.781363</td>\n",
       "    </tr>\n",
       "    <tr>\n",
       "      <th>998</th>\n",
       "      <td>8.62</td>\n",
       "      <td>46.0</td>\n",
       "      <td>1</td>\n",
       "      <td>2.693239</td>\n",
       "    </tr>\n",
       "  </tbody>\n",
       "</table>\n",
       "<p>995 rows × 4 columns</p>\n",
       "</div>"
      ],
      "text/plain": [
       "     cgpa  placement_exam_marks  placed  cgpa_zscore\n",
       "0    7.19                  26.0       1     0.371425\n",
       "1    7.46                  38.0       1     0.809810\n",
       "2    7.54                  40.0       1     0.939701\n",
       "3    6.42                   8.0       1    -0.878782\n",
       "4    7.23                  17.0       0     0.436371\n",
       "..    ...                   ...     ...          ...\n",
       "991  7.04                  57.0       0     0.127878\n",
       "992  6.26                  12.0       0    -1.138565\n",
       "993  6.73                  21.0       1    -0.375452\n",
       "994  6.48                  63.0       0    -0.781363\n",
       "998  8.62                  46.0       1     2.693239\n",
       "\n",
       "[995 rows x 4 columns]"
      ]
     },
     "execution_count": 41,
     "metadata": {},
     "output_type": "execute_result"
    }
   ],
   "source": [
    "new_df_2"
   ]
  },
  {
   "cell_type": "code",
   "execution_count": 43,
   "id": "76c25dc7",
   "metadata": {},
   "outputs": [],
   "source": [
    "# Capping \n",
    "\n",
    "upper_limit=df['cgpa'].mean() + 3*df['cgpa'].std()\n",
    "lower_limit=df['cgpa'].mean() - 3*df['cgpa'].std()"
   ]
  },
  {
   "cell_type": "code",
   "execution_count": 44,
   "id": "02072508",
   "metadata": {},
   "outputs": [],
   "source": [
    "# np.where(x ,y,z) x=condition ,y = if it is true , z=if it is false\n",
    "\n",
    "df['cgpa']=np.where(\n",
    "    df['cgpa']>upper_limit, \n",
    "    upper_limit,\n",
    "    np.where(\n",
    "        df['cgpa']<lower_limit,\n",
    "        lower_limit,\n",
    "        df['cgpa']\n",
    "    )\n",
    ")"
   ]
  },
  {
   "cell_type": "code",
   "execution_count": null,
   "id": "6f99ee31",
   "metadata": {},
   "outputs": [
    {
     "data": {
      "text/plain": [
       "(1000, 4)"
      ]
     },
     "execution_count": 46,
     "metadata": {},
     "output_type": "execute_result"
    }
   ],
   "source": [
    "df.shape\n",
    "\n",
    "\n",
    "# here size of dataset does not change\n",
    "# But while trimming the size of dataset decrese"
   ]
  },
  {
   "cell_type": "code",
   "execution_count": null,
   "id": "f78d6230",
   "metadata": {},
   "outputs": [],
   "source": []
  }
 ],
 "metadata": {
  "kernelspec": {
   "display_name": "Python 3",
   "language": "python",
   "name": "python3"
  },
  "language_info": {
   "codemirror_mode": {
    "name": "ipython",
    "version": 3
   },
   "file_extension": ".py",
   "mimetype": "text/x-python",
   "name": "python",
   "nbconvert_exporter": "python",
   "pygments_lexer": "ipython3",
   "version": "3.11.9"
  }
 },
 "nbformat": 4,
 "nbformat_minor": 5
}
