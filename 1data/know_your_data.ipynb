{
 "cells": [
  {
   "cell_type": "code",
   "execution_count": 11,
   "metadata": {},
   "outputs": [],
   "source": [
    "import pandas as pd\n",
    "import seaborn as sns"
   ]
  },
  {
   "cell_type": "code",
   "execution_count": 12,
   "metadata": {},
   "outputs": [],
   "source": [
    "df=pd.read_csv(\"F:\\campusX\\messy_data.csv\")"
   ]
  },
  {
   "cell_type": "code",
   "execution_count": 13,
   "metadata": {},
   "outputs": [
    {
     "data": {
      "application/vnd.microsoft.datawrangler.viewer.v0+json": {
       "columns": [
        {
         "name": "index",
         "rawType": "int64",
         "type": "integer"
        },
        {
         "name": "Employee_ID",
         "rawType": "int64",
         "type": "integer"
        },
        {
         "name": "Employee Name",
         "rawType": "object",
         "type": "unknown"
        },
        {
         "name": "Age",
         "rawType": "float64",
         "type": "float"
        },
        {
         "name": "Department",
         "rawType": "object",
         "type": "unknown"
        },
        {
         "name": "Joining Date",
         "rawType": "object",
         "type": "unknown"
        },
        {
         "name": "Salary",
         "rawType": "object",
         "type": "unknown"
        },
        {
         "name": "Address",
         "rawType": "object",
         "type": "unknown"
        }
       ],
       "conversionMethod": "pd.DataFrame",
       "ref": "c0b93bf9-3c3f-455b-8fbf-109fb3ac27b9",
       "rows": [
        [
         "0",
         "101",
         "Employee_101",
         "52.0",
         "HR",
         "02/06/20",
         "74776",
         "49 Example Street"
        ],
        [
         "1",
         "102",
         "Employee_102",
         "56.0",
         "Sales",
         "01/05/18",
         null,
         "214 Example Street"
        ],
        [
         "2",
         "103",
         "Employee_103",
         "35.0",
         "Marketing",
         "13/01/18",
         "87947",
         "963 Example Street"
        ],
        [
         "3",
         "104",
         "Employee_104",
         "57.0",
         "Finance",
         "07/04/19",
         null,
         "26 Example Street"
        ],
        [
         "4",
         "105",
         "Employee_105",
         "28.0",
         "Sales",
         "18/02/17",
         "INVALID",
         "828 Example Street"
        ],
        [
         "5",
         "106",
         "Employee_106",
         "52.0",
         "HR",
         "06/04/19",
         null,
         "971 Example Street"
        ],
        [
         "6",
         "107",
         "Employee_107",
         "50.0",
         "HR",
         "26/12/19",
         null,
         "268 Example Street"
        ],
        [
         "7",
         "108",
         "Employee_108",
         "33.0",
         "Marketing",
         "05/03/15",
         null,
         "648 Example Street"
        ],
        [
         "8",
         "109",
         "Employee_109",
         null,
         "HR",
         "20/05/15",
         null,
         "280 Example Street"
        ],
        [
         "9",
         "110",
         "Employee_110",
         "29.0",
         "IT",
         "30/05/19",
         "INVALID",
         "319 Example Street"
        ],
        [
         "10",
         "111",
         "Employee_111",
         "35.0",
         null,
         "30/11/15",
         null,
         "215 Example Street"
        ],
        [
         "11",
         "112",
         "Employee_112",
         "45.0",
         "Sales",
         "02/10/18",
         "INVALID",
         "127 Example Street"
        ],
        [
         "12",
         "113",
         "Employee_113",
         "51.0",
         "Marketing",
         "24/02/20",
         "75562",
         "936 Example Street"
        ],
        [
         "13",
         "114",
         "Employee_114",
         "43.0",
         "Marketing",
         "05/09/16",
         null,
         "201 Example Street"
        ],
        [
         "14",
         "115",
         "Employee_115",
         "60.0",
         "Finance",
         "18/05/21",
         null,
         "569 Example Street"
        ],
        [
         "15",
         "116",
         "Employee_116",
         "53.0",
         "Finance",
         "09/09/16",
         "35828",
         "617 Example Street"
        ],
        [
         "16",
         "117",
         "Employee_117",
         null,
         "Finance",
         "16/03/18",
         null,
         "488 Example Street"
        ],
        [
         "17",
         "118",
         "Employee_118",
         "56.0",
         null,
         "11/04/21",
         "60056",
         "55 Example Street"
        ],
        [
         "18",
         "119",
         "Employee_119",
         "34.0",
         "IT",
         "31/07/16",
         null,
         "518 Example Street"
        ],
        [
         "19",
         "120",
         "Employee_120",
         "41.0",
         "Sales",
         "21/08/18",
         "INVALID",
         "689 Example Street"
        ],
        [
         "20",
         "121",
         "Employee_121",
         "57.0",
         "IT",
         "08/08/18",
         "65459",
         "525 Example Street"
        ],
        [
         "21",
         "122",
         "Employee_122",
         "26.0",
         "Marketing",
         "24/09/20",
         "INVALID",
         "819 Example Street"
        ],
        [
         "22",
         "123",
         "Employee_123",
         "26.0",
         "HR",
         "31/12/16",
         "INVALID",
         "631 Example Street"
        ],
        [
         "23",
         "124",
         "Employee_124",
         null,
         "Finance",
         "01/10/20",
         null,
         "687 Example Street"
        ],
        [
         "24",
         "125",
         "Employee_125",
         "22.0",
         "Finance",
         "09/03/18",
         null,
         "56 Example Street"
        ],
        [
         "25",
         "126",
         "Employee_126",
         "51.0",
         "IT",
         "02/02/16",
         "98982",
         "348 Example Street"
        ],
        [
         "26",
         "127",
         "Employee_127",
         "34.0",
         "IT",
         "18/05/19",
         "INVALID",
         "381 Example Street"
        ],
        [
         "27",
         "128",
         "Employee_128",
         "56.0",
         "Sales",
         "19/11/18",
         null,
         "221 Example Street"
        ],
        [
         "28",
         "129",
         "Employee_129",
         "35.0",
         "Finance",
         "02/04/19",
         "30060",
         "218 Example Street"
        ],
        [
         "29",
         "130",
         "Employee_130",
         "51.0",
         null,
         "27/10/15",
         "108393",
         "640 Example Street"
        ],
        [
         "30",
         "131",
         "Employee_131",
         "48.0",
         "HR",
         "22/07/19",
         null,
         "743 Example Street"
        ],
        [
         "31",
         "132",
         "Employee_132",
         "28.0",
         "HR",
         "11/03/17",
         "46391",
         "290 Example Street"
        ],
        [
         "32",
         "133",
         "Employee_133",
         "45.0",
         "IT",
         "10/01/17",
         null,
         "176 Example Street"
        ],
        [
         "33",
         "134",
         "Employee_134",
         "42.0",
         "Marketing",
         "19/02/20",
         "INVALID",
         "735 Example Street"
        ],
        [
         "34",
         "135",
         "Employee_135",
         "35.0",
         "IT",
         "23/03/16",
         null,
         "898 Example Street"
        ],
        [
         "35",
         "136",
         "Employee_136",
         "28.0",
         null,
         "01/07/18",
         null,
         "897 Example Street"
        ],
        [
         "36",
         "137",
         "Employee_137",
         "58.0",
         "Sales",
         "26/01/16",
         null,
         "312 Example Street"
        ],
        [
         "37",
         "138",
         "Employee_138",
         "37.0",
         "HR",
         "11/07/15",
         null,
         "592 Example Street"
        ],
        [
         "38",
         "139",
         "Employee_139",
         null,
         "Finance",
         "02/12/18",
         null,
         "817 Example Street"
        ],
        [
         "39",
         "140",
         "Employee_140",
         "51.0",
         "IT",
         "30/06/15",
         "INVALID",
         "85 Example Street"
        ],
        [
         "40",
         "141",
         "Employee_141",
         "26.0",
         "Finance",
         "31/07/20",
         "116272",
         "551 Example Street"
        ],
        [
         "41",
         "142",
         "Employee_142",
         "29.0",
         "HR",
         "06/05/17",
         null,
         "552 Example Street"
        ],
        [
         "42",
         "143",
         "Employee_143",
         "40.0",
         "Marketing",
         "01/03/15",
         null,
         "585 Example Street"
        ],
        [
         "43",
         "144",
         "Employee_144",
         "25.0",
         "Marketing",
         "31/12/20",
         "40411",
         "100 Example Street"
        ],
        [
         "44",
         "145",
         "Employee_145",
         "56.0",
         null,
         "06/09/22",
         null,
         "471 Example Street"
        ],
        [
         "45",
         "146",
         "Employee_146",
         "25.0",
         "HR",
         "24/10/20",
         "86543",
         "588 Example Street"
        ],
        [
         "46",
         "147",
         "Employee_147",
         "53.0",
         "Finance",
         "02/01/19",
         null,
         "466 Example Street"
        ],
        [
         "47",
         "148",
         "Employee_148",
         "50.0",
         "Finance",
         "02/04/21",
         null,
         "757 Example Street"
        ],
        [
         "48",
         "149",
         "Employee_149",
         "51.0",
         "Finance",
         "08/07/17",
         "43554",
         "613 Example Street"
        ],
        [
         "49",
         "150",
         "Employee_150",
         "58.0",
         "Marketing",
         "18/11/20",
         null,
         "746 Example Street"
        ]
       ],
       "shape": {
        "columns": 7,
        "rows": 100
       }
      },
      "text/html": [
       "<div>\n",
       "<style scoped>\n",
       "    .dataframe tbody tr th:only-of-type {\n",
       "        vertical-align: middle;\n",
       "    }\n",
       "\n",
       "    .dataframe tbody tr th {\n",
       "        vertical-align: top;\n",
       "    }\n",
       "\n",
       "    .dataframe thead th {\n",
       "        text-align: right;\n",
       "    }\n",
       "</style>\n",
       "<table border=\"1\" class=\"dataframe\">\n",
       "  <thead>\n",
       "    <tr style=\"text-align: right;\">\n",
       "      <th></th>\n",
       "      <th>Employee_ID</th>\n",
       "      <th>Employee Name</th>\n",
       "      <th>Age</th>\n",
       "      <th>Department</th>\n",
       "      <th>Joining Date</th>\n",
       "      <th>Salary</th>\n",
       "      <th>Address</th>\n",
       "    </tr>\n",
       "  </thead>\n",
       "  <tbody>\n",
       "    <tr>\n",
       "      <th>0</th>\n",
       "      <td>101</td>\n",
       "      <td>Employee_101</td>\n",
       "      <td>52.0</td>\n",
       "      <td>HR</td>\n",
       "      <td>02/06/20</td>\n",
       "      <td>74776</td>\n",
       "      <td>49 Example Street</td>\n",
       "    </tr>\n",
       "    <tr>\n",
       "      <th>1</th>\n",
       "      <td>102</td>\n",
       "      <td>Employee_102</td>\n",
       "      <td>56.0</td>\n",
       "      <td>Sales</td>\n",
       "      <td>01/05/18</td>\n",
       "      <td>NaN</td>\n",
       "      <td>214 Example Street</td>\n",
       "    </tr>\n",
       "    <tr>\n",
       "      <th>2</th>\n",
       "      <td>103</td>\n",
       "      <td>Employee_103</td>\n",
       "      <td>35.0</td>\n",
       "      <td>Marketing</td>\n",
       "      <td>13/01/18</td>\n",
       "      <td>87947</td>\n",
       "      <td>963 Example Street</td>\n",
       "    </tr>\n",
       "    <tr>\n",
       "      <th>3</th>\n",
       "      <td>104</td>\n",
       "      <td>Employee_104</td>\n",
       "      <td>57.0</td>\n",
       "      <td>Finance</td>\n",
       "      <td>07/04/19</td>\n",
       "      <td>NaN</td>\n",
       "      <td>26 Example Street</td>\n",
       "    </tr>\n",
       "    <tr>\n",
       "      <th>4</th>\n",
       "      <td>105</td>\n",
       "      <td>Employee_105</td>\n",
       "      <td>28.0</td>\n",
       "      <td>Sales</td>\n",
       "      <td>18/02/17</td>\n",
       "      <td>INVALID</td>\n",
       "      <td>828 Example Street</td>\n",
       "    </tr>\n",
       "    <tr>\n",
       "      <th>...</th>\n",
       "      <td>...</td>\n",
       "      <td>...</td>\n",
       "      <td>...</td>\n",
       "      <td>...</td>\n",
       "      <td>...</td>\n",
       "      <td>...</td>\n",
       "      <td>...</td>\n",
       "    </tr>\n",
       "    <tr>\n",
       "      <th>95</th>\n",
       "      <td>196</td>\n",
       "      <td>Employee_196</td>\n",
       "      <td>34.0</td>\n",
       "      <td>IT</td>\n",
       "      <td>28/02/22</td>\n",
       "      <td>NaN</td>\n",
       "      <td>537 Example Street</td>\n",
       "    </tr>\n",
       "    <tr>\n",
       "      <th>96</th>\n",
       "      <td>197</td>\n",
       "      <td>Employee_197</td>\n",
       "      <td>60.0</td>\n",
       "      <td>Finance</td>\n",
       "      <td>08/03/19</td>\n",
       "      <td>INVALID</td>\n",
       "      <td>548 Example Street</td>\n",
       "    </tr>\n",
       "    <tr>\n",
       "      <th>97</th>\n",
       "      <td>198</td>\n",
       "      <td>Employee_198</td>\n",
       "      <td>31.0</td>\n",
       "      <td>HR</td>\n",
       "      <td>01/07/21</td>\n",
       "      <td>NaN</td>\n",
       "      <td>775 Example Street</td>\n",
       "    </tr>\n",
       "    <tr>\n",
       "      <th>98</th>\n",
       "      <td>199</td>\n",
       "      <td>Employee_199</td>\n",
       "      <td>46.0</td>\n",
       "      <td>Finance</td>\n",
       "      <td>20/09/19</td>\n",
       "      <td>NaN</td>\n",
       "      <td>527 Example Street</td>\n",
       "    </tr>\n",
       "    <tr>\n",
       "      <th>99</th>\n",
       "      <td>200</td>\n",
       "      <td>Employee_200</td>\n",
       "      <td>59.0</td>\n",
       "      <td>Sales</td>\n",
       "      <td>21/01/20</td>\n",
       "      <td>95964</td>\n",
       "      <td>183 Example Street</td>\n",
       "    </tr>\n",
       "  </tbody>\n",
       "</table>\n",
       "<p>100 rows × 7 columns</p>\n",
       "</div>"
      ],
      "text/plain": [
       "    Employee_ID Employee Name   Age Department Joining Date   Salary  \\\n",
       "0           101  Employee_101  52.0         HR     02/06/20    74776   \n",
       "1           102  Employee_102  56.0      Sales     01/05/18      NaN   \n",
       "2           103  Employee_103  35.0  Marketing     13/01/18    87947   \n",
       "3           104  Employee_104  57.0    Finance     07/04/19      NaN   \n",
       "4           105  Employee_105  28.0      Sales     18/02/17  INVALID   \n",
       "..          ...           ...   ...        ...          ...      ...   \n",
       "95          196  Employee_196  34.0         IT     28/02/22      NaN   \n",
       "96          197  Employee_197  60.0    Finance     08/03/19  INVALID   \n",
       "97          198  Employee_198  31.0         HR     01/07/21      NaN   \n",
       "98          199  Employee_199  46.0    Finance     20/09/19      NaN   \n",
       "99          200  Employee_200  59.0      Sales     21/01/20    95964   \n",
       "\n",
       "               Address  \n",
       "0    49 Example Street  \n",
       "1   214 Example Street  \n",
       "2   963 Example Street  \n",
       "3    26 Example Street  \n",
       "4   828 Example Street  \n",
       "..                 ...  \n",
       "95  537 Example Street  \n",
       "96  548 Example Street  \n",
       "97  775 Example Street  \n",
       "98  527 Example Street  \n",
       "99  183 Example Street  \n",
       "\n",
       "[100 rows x 7 columns]"
      ]
     },
     "execution_count": 13,
     "metadata": {},
     "output_type": "execute_result"
    }
   ],
   "source": [
    "df"
   ]
  },
  {
   "cell_type": "code",
   "execution_count": null,
   "metadata": {},
   "outputs": [
    {
     "data": {
      "text/plain": [
       "<Axes: xlabel='Age', ylabel='count'>"
      ]
     },
     "execution_count": 24,
     "metadata": {},
     "output_type": "execute_result"
    },
    {
     "data": {
      "image/png": "[encoded data removed]",
      "text/plain": [
       "<Figure size 640x480 with 1 Axes>"
      ]
     },
     "metadata": {},
     "output_type": "display_data"
    }
   ],
   "source": [
    "# sns.countplot(data=df,x=\"Age\")"
   ]
  },
  {
   "cell_type": "markdown",
   "metadata": {},
   "source": [
    "### How big your data is "
   ]
  },
  {
   "cell_type": "markdown",
   "metadata": {},
   "source": []
  },
  {
   "cell_type": "code",
   "execution_count": 15,
   "metadata": {},
   "outputs": [
    {
     "data": {
      "text/plain": [
       "(100, 7)"
      ]
     },
     "execution_count": 15,
     "metadata": {},
     "output_type": "execute_result"
    }
   ],
   "source": [
    "df.shape"
   ]
  },
  {
   "cell_type": "markdown",
   "metadata": {},
   "source": [
    "### How does the data look like?"
   ]
  },
  {
   "cell_type": "code",
   "execution_count": 16,
   "metadata": {},
   "outputs": [
    {
     "data": {
      "application/vnd.microsoft.datawrangler.viewer.v0+json": {
       "columns": [
        {
         "name": "index",
         "rawType": "int64",
         "type": "integer"
        },
        {
         "name": "Employee_ID",
         "rawType": "int64",
         "type": "integer"
        },
        {
         "name": "Employee Name",
         "rawType": "object",
         "type": "string"
        },
        {
         "name": "Age",
         "rawType": "float64",
         "type": "float"
        },
        {
         "name": "Department",
         "rawType": "object",
         "type": "string"
        },
        {
         "name": "Joining Date",
         "rawType": "object",
         "type": "string"
        },
        {
         "name": "Salary",
         "rawType": "object",
         "type": "unknown"
        },
        {
         "name": "Address",
         "rawType": "object",
         "type": "string"
        }
       ],
       "conversionMethod": "pd.DataFrame",
       "ref": "a6613a42-da08-4662-9fa5-e20aa5694db5",
       "rows": [
        [
         "0",
         "101",
         "Employee_101",
         "52.0",
         "HR",
         "02/06/20",
         "74776",
         "49 Example Street"
        ],
        [
         "1",
         "102",
         "Employee_102",
         "56.0",
         "Sales",
         "01/05/18",
         null,
         "214 Example Street"
        ],
        [
         "2",
         "103",
         "Employee_103",
         "35.0",
         "Marketing",
         "13/01/18",
         "87947",
         "963 Example Street"
        ],
        [
         "3",
         "104",
         "Employee_104",
         "57.0",
         "Finance",
         "07/04/19",
         null,
         "26 Example Street"
        ],
        [
         "4",
         "105",
         "Employee_105",
         "28.0",
         "Sales",
         "18/02/17",
         "INVALID",
         "828 Example Street"
        ]
       ],
       "shape": {
        "columns": 7,
        "rows": 5
       }
      },
      "text/html": [
       "<div>\n",
       "<style scoped>\n",
       "    .dataframe tbody tr th:only-of-type {\n",
       "        vertical-align: middle;\n",
       "    }\n",
       "\n",
       "    .dataframe tbody tr th {\n",
       "        vertical-align: top;\n",
       "    }\n",
       "\n",
       "    .dataframe thead th {\n",
       "        text-align: right;\n",
       "    }\n",
       "</style>\n",
       "<table border=\"1\" class=\"dataframe\">\n",
       "  <thead>\n",
       "    <tr style=\"text-align: right;\">\n",
       "      <th></th>\n",
       "      <th>Employee_ID</th>\n",
       "      <th>Employee Name</th>\n",
       "      <th>Age</th>\n",
       "      <th>Department</th>\n",
       "      <th>Joining Date</th>\n",
       "      <th>Salary</th>\n",
       "      <th>Address</th>\n",
       "    </tr>\n",
       "  </thead>\n",
       "  <tbody>\n",
       "    <tr>\n",
       "      <th>0</th>\n",
       "      <td>101</td>\n",
       "      <td>Employee_101</td>\n",
       "      <td>52.0</td>\n",
       "      <td>HR</td>\n",
       "      <td>02/06/20</td>\n",
       "      <td>74776</td>\n",
       "      <td>49 Example Street</td>\n",
       "    </tr>\n",
       "    <tr>\n",
       "      <th>1</th>\n",
       "      <td>102</td>\n",
       "      <td>Employee_102</td>\n",
       "      <td>56.0</td>\n",
       "      <td>Sales</td>\n",
       "      <td>01/05/18</td>\n",
       "      <td>NaN</td>\n",
       "      <td>214 Example Street</td>\n",
       "    </tr>\n",
       "    <tr>\n",
       "      <th>2</th>\n",
       "      <td>103</td>\n",
       "      <td>Employee_103</td>\n",
       "      <td>35.0</td>\n",
       "      <td>Marketing</td>\n",
       "      <td>13/01/18</td>\n",
       "      <td>87947</td>\n",
       "      <td>963 Example Street</td>\n",
       "    </tr>\n",
       "    <tr>\n",
       "      <th>3</th>\n",
       "      <td>104</td>\n",
       "      <td>Employee_104</td>\n",
       "      <td>57.0</td>\n",
       "      <td>Finance</td>\n",
       "      <td>07/04/19</td>\n",
       "      <td>NaN</td>\n",
       "      <td>26 Example Street</td>\n",
       "    </tr>\n",
       "    <tr>\n",
       "      <th>4</th>\n",
       "      <td>105</td>\n",
       "      <td>Employee_105</td>\n",
       "      <td>28.0</td>\n",
       "      <td>Sales</td>\n",
       "      <td>18/02/17</td>\n",
       "      <td>INVALID</td>\n",
       "      <td>828 Example Street</td>\n",
       "    </tr>\n",
       "  </tbody>\n",
       "</table>\n",
       "</div>"
      ],
      "text/plain": [
       "   Employee_ID Employee Name   Age Department Joining Date   Salary  \\\n",
       "0          101  Employee_101  52.0         HR     02/06/20    74776   \n",
       "1          102  Employee_102  56.0      Sales     01/05/18      NaN   \n",
       "2          103  Employee_103  35.0  Marketing     13/01/18    87947   \n",
       "3          104  Employee_104  57.0    Finance     07/04/19      NaN   \n",
       "4          105  Employee_105  28.0      Sales     18/02/17  INVALID   \n",
       "\n",
       "              Address  \n",
       "0   49 Example Street  \n",
       "1  214 Example Street  \n",
       "2  963 Example Street  \n",
       "3   26 Example Street  \n",
       "4  828 Example Street  "
      ]
     },
     "execution_count": 16,
     "metadata": {},
     "output_type": "execute_result"
    }
   ],
   "source": [
    "df.head()"
   ]
  },
  {
   "cell_type": "markdown",
   "metadata": {},
   "source": [
    "### Random data from your dataset"
   ]
  },
  {
   "cell_type": "code",
   "execution_count": 17,
   "metadata": {},
   "outputs": [
    {
     "data": {
      "application/vnd.microsoft.datawrangler.viewer.v0+json": {
       "columns": [
        {
         "name": "index",
         "rawType": "int64",
         "type": "integer"
        },
        {
         "name": "Employee_ID",
         "rawType": "int64",
         "type": "integer"
        },
        {
         "name": "Employee Name",
         "rawType": "object",
         "type": "string"
        },
        {
         "name": "Age",
         "rawType": "float64",
         "type": "float"
        },
        {
         "name": "Department",
         "rawType": "object",
         "type": "unknown"
        },
        {
         "name": "Joining Date",
         "rawType": "object",
         "type": "string"
        },
        {
         "name": "Salary",
         "rawType": "object",
         "type": "unknown"
        },
        {
         "name": "Address",
         "rawType": "object",
         "type": "string"
        }
       ],
       "conversionMethod": "pd.DataFrame",
       "ref": "a9b958c2-c894-48a4-b7c0-01a0f5834cc2",
       "rows": [
        [
         "3",
         "104",
         "Employee_104",
         "57.0",
         "Finance",
         "07/04/19",
         null,
         "26 Example Street"
        ],
        [
         "87",
         "188",
         "Employee_188",
         "42.0",
         "Finance",
         "17/07/20",
         "105016",
         "625 Example Street"
        ],
        [
         "50",
         "151",
         "Employee_151",
         "49.0",
         "Marketing",
         "19/07/19",
         "87407",
         "430 Example Street"
        ],
        [
         "79",
         "180",
         "Employee_180",
         "34.0",
         "Finance",
         "10/10/18",
         null,
         "941 Example Street"
        ],
        [
         "29",
         "130",
         "Employee_130",
         "51.0",
         null,
         "27/10/15",
         "108393",
         "640 Example Street"
        ]
       ],
       "shape": {
        "columns": 7,
        "rows": 5
       }
      },
      "text/html": [
       "<div>\n",
       "<style scoped>\n",
       "    .dataframe tbody tr th:only-of-type {\n",
       "        vertical-align: middle;\n",
       "    }\n",
       "\n",
       "    .dataframe tbody tr th {\n",
       "        vertical-align: top;\n",
       "    }\n",
       "\n",
       "    .dataframe thead th {\n",
       "        text-align: right;\n",
       "    }\n",
       "</style>\n",
       "<table border=\"1\" class=\"dataframe\">\n",
       "  <thead>\n",
       "    <tr style=\"text-align: right;\">\n",
       "      <th></th>\n",
       "      <th>Employee_ID</th>\n",
       "      <th>Employee Name</th>\n",
       "      <th>Age</th>\n",
       "      <th>Department</th>\n",
       "      <th>Joining Date</th>\n",
       "      <th>Salary</th>\n",
       "      <th>Address</th>\n",
       "    </tr>\n",
       "  </thead>\n",
       "  <tbody>\n",
       "    <tr>\n",
       "      <th>3</th>\n",
       "      <td>104</td>\n",
       "      <td>Employee_104</td>\n",
       "      <td>57.0</td>\n",
       "      <td>Finance</td>\n",
       "      <td>07/04/19</td>\n",
       "      <td>NaN</td>\n",
       "      <td>26 Example Street</td>\n",
       "    </tr>\n",
       "    <tr>\n",
       "      <th>87</th>\n",
       "      <td>188</td>\n",
       "      <td>Employee_188</td>\n",
       "      <td>42.0</td>\n",
       "      <td>Finance</td>\n",
       "      <td>17/07/20</td>\n",
       "      <td>105016</td>\n",
       "      <td>625 Example Street</td>\n",
       "    </tr>\n",
       "    <tr>\n",
       "      <th>50</th>\n",
       "      <td>151</td>\n",
       "      <td>Employee_151</td>\n",
       "      <td>49.0</td>\n",
       "      <td>Marketing</td>\n",
       "      <td>19/07/19</td>\n",
       "      <td>87407</td>\n",
       "      <td>430 Example Street</td>\n",
       "    </tr>\n",
       "    <tr>\n",
       "      <th>79</th>\n",
       "      <td>180</td>\n",
       "      <td>Employee_180</td>\n",
       "      <td>34.0</td>\n",
       "      <td>Finance</td>\n",
       "      <td>10/10/18</td>\n",
       "      <td>NaN</td>\n",
       "      <td>941 Example Street</td>\n",
       "    </tr>\n",
       "    <tr>\n",
       "      <th>29</th>\n",
       "      <td>130</td>\n",
       "      <td>Employee_130</td>\n",
       "      <td>51.0</td>\n",
       "      <td>NaN</td>\n",
       "      <td>27/10/15</td>\n",
       "      <td>108393</td>\n",
       "      <td>640 Example Street</td>\n",
       "    </tr>\n",
       "  </tbody>\n",
       "</table>\n",
       "</div>"
      ],
      "text/plain": [
       "    Employee_ID Employee Name   Age Department Joining Date  Salary  \\\n",
       "3           104  Employee_104  57.0    Finance     07/04/19     NaN   \n",
       "87          188  Employee_188  42.0    Finance     17/07/20  105016   \n",
       "50          151  Employee_151  49.0  Marketing     19/07/19   87407   \n",
       "79          180  Employee_180  34.0    Finance     10/10/18     NaN   \n",
       "29          130  Employee_130  51.0        NaN     27/10/15  108393   \n",
       "\n",
       "               Address  \n",
       "3    26 Example Street  \n",
       "87  625 Example Street  \n",
       "50  430 Example Street  \n",
       "79  941 Example Street  \n",
       "29  640 Example Street  "
      ]
     },
     "execution_count": 17,
     "metadata": {},
     "output_type": "execute_result"
    }
   ],
   "source": [
    "df.sample(5)"
   ]
  },
  {
   "cell_type": "markdown",
   "metadata": {},
   "source": [
    "### know your datatype"
   ]
  },
  {
   "cell_type": "code",
   "execution_count": 18,
   "metadata": {},
   "outputs": [
    {
     "name": "stdout",
     "output_type": "stream",
     "text": [
      "<class 'pandas.core.frame.DataFrame'>\n",
      "RangeIndex: 100 entries, 0 to 99\n",
      "Data columns (total 7 columns):\n",
      " #   Column         Non-Null Count  Dtype  \n",
      "---  ------         --------------  -----  \n",
      " 0   Employee_ID    100 non-null    int64  \n",
      " 1   Employee Name  99 non-null     object \n",
      " 2   Age            96 non-null     float64\n",
      " 3   Department     93 non-null     object \n",
      " 4   Joining Date   99 non-null     object \n",
      " 5   Salary         48 non-null     object \n",
      " 6   Address        99 non-null     object \n",
      "dtypes: float64(1), int64(1), object(5)\n",
      "memory usage: 5.6+ KB\n"
     ]
    }
   ],
   "source": [
    "df.info()"
   ]
  },
  {
   "cell_type": "markdown",
   "metadata": {},
   "source": [
    "### Are there any missing value"
   ]
  },
  {
   "cell_type": "code",
   "execution_count": 19,
   "metadata": {},
   "outputs": [
    {
     "data": {
      "text/plain": [
       "Employee_ID       0\n",
       "Employee Name     1\n",
       "Age               4\n",
       "Department        7\n",
       "Joining Date      1\n",
       "Salary           52\n",
       "Address           1\n",
       "dtype: int64"
      ]
     },
     "execution_count": 19,
     "metadata": {},
     "output_type": "execute_result"
    }
   ],
   "source": [
    "df.isnull().sum()"
   ]
  },
  {
   "cell_type": "markdown",
   "metadata": {},
   "source": [
    "### how does the data look mathematically?"
   ]
  },
  {
   "cell_type": "code",
   "execution_count": 20,
   "metadata": {},
   "outputs": [
    {
     "data": {
      "application/vnd.microsoft.datawrangler.viewer.v0+json": {
       "columns": [
        {
         "name": "index",
         "rawType": "object",
         "type": "string"
        },
        {
         "name": "Employee_ID",
         "rawType": "float64",
         "type": "float"
        },
        {
         "name": "Age",
         "rawType": "float64",
         "type": "float"
        }
       ],
       "conversionMethod": "pd.DataFrame",
       "ref": "c592b757-445a-43ba-982f-eaaa9f61318c",
       "rows": [
        [
         "count",
         "100.0",
         "96.0"
        ],
        [
         "mean",
         "150.5",
         "43.229166666666664"
        ],
        [
         "std",
         "29.011491975882016",
         "11.329030400901987"
        ],
        [
         "min",
         "101.0",
         "22.0"
        ],
        [
         "25%",
         "125.75",
         "34.0"
        ],
        [
         "50%",
         "150.5",
         "45.0"
        ],
        [
         "75%",
         "175.25",
         "53.0"
        ],
        [
         "max",
         "200.0",
         "60.0"
        ]
       ],
       "shape": {
        "columns": 2,
        "rows": 8
       }
      },
      "text/html": [
       "<div>\n",
       "<style scoped>\n",
       "    .dataframe tbody tr th:only-of-type {\n",
       "        vertical-align: middle;\n",
       "    }\n",
       "\n",
       "    .dataframe tbody tr th {\n",
       "        vertical-align: top;\n",
       "    }\n",
       "\n",
       "    .dataframe thead th {\n",
       "        text-align: right;\n",
       "    }\n",
       "</style>\n",
       "<table border=\"1\" class=\"dataframe\">\n",
       "  <thead>\n",
       "    <tr style=\"text-align: right;\">\n",
       "      <th></th>\n",
       "      <th>Employee_ID</th>\n",
       "      <th>Age</th>\n",
       "    </tr>\n",
       "  </thead>\n",
       "  <tbody>\n",
       "    <tr>\n",
       "      <th>count</th>\n",
       "      <td>100.000000</td>\n",
       "      <td>96.000000</td>\n",
       "    </tr>\n",
       "    <tr>\n",
       "      <th>mean</th>\n",
       "      <td>150.500000</td>\n",
       "      <td>43.229167</td>\n",
       "    </tr>\n",
       "    <tr>\n",
       "      <th>std</th>\n",
       "      <td>29.011492</td>\n",
       "      <td>11.329030</td>\n",
       "    </tr>\n",
       "    <tr>\n",
       "      <th>min</th>\n",
       "      <td>101.000000</td>\n",
       "      <td>22.000000</td>\n",
       "    </tr>\n",
       "    <tr>\n",
       "      <th>25%</th>\n",
       "      <td>125.750000</td>\n",
       "      <td>34.000000</td>\n",
       "    </tr>\n",
       "    <tr>\n",
       "      <th>50%</th>\n",
       "      <td>150.500000</td>\n",
       "      <td>45.000000</td>\n",
       "    </tr>\n",
       "    <tr>\n",
       "      <th>75%</th>\n",
       "      <td>175.250000</td>\n",
       "      <td>53.000000</td>\n",
       "    </tr>\n",
       "    <tr>\n",
       "      <th>max</th>\n",
       "      <td>200.000000</td>\n",
       "      <td>60.000000</td>\n",
       "    </tr>\n",
       "  </tbody>\n",
       "</table>\n",
       "</div>"
      ],
      "text/plain": [
       "       Employee_ID        Age\n",
       "count   100.000000  96.000000\n",
       "mean    150.500000  43.229167\n",
       "std      29.011492  11.329030\n",
       "min     101.000000  22.000000\n",
       "25%     125.750000  34.000000\n",
       "50%     150.500000  45.000000\n",
       "75%     175.250000  53.000000\n",
       "max     200.000000  60.000000"
      ]
     },
     "execution_count": 20,
     "metadata": {},
     "output_type": "execute_result"
    }
   ],
   "source": [
    "df.describe()"
   ]
  },
  {
   "cell_type": "markdown",
   "metadata": {},
   "source": [
    "### Duplicate in your data"
   ]
  },
  {
   "cell_type": "code",
   "execution_count": 21,
   "metadata": {},
   "outputs": [
    {
     "data": {
      "text/plain": [
       "np.int64(0)"
      ]
     },
     "execution_count": 21,
     "metadata": {},
     "output_type": "execute_result"
    }
   ],
   "source": [
    "df.duplicated().sum()"
   ]
  },
  {
   "cell_type": "code",
   "execution_count": 22,
   "metadata": {},
   "outputs": [
    {
     "data": {
      "application/vnd.microsoft.datawrangler.viewer.v0+json": {
       "columns": [
        {
         "name": "index",
         "rawType": "int64",
         "type": "integer"
        },
        {
         "name": "Employee_ID",
         "rawType": "int64",
         "type": "integer"
        },
        {
         "name": "Employee Name",
         "rawType": "object",
         "type": "unknown"
        },
        {
         "name": "Age",
         "rawType": "float64",
         "type": "float"
        },
        {
         "name": "Department",
         "rawType": "object",
         "type": "unknown"
        },
        {
         "name": "Joining Date",
         "rawType": "object",
         "type": "unknown"
        },
        {
         "name": "Salary",
         "rawType": "object",
         "type": "unknown"
        },
        {
         "name": "Address",
         "rawType": "object",
         "type": "unknown"
        }
       ],
       "conversionMethod": "pd.DataFrame",
       "ref": "49e91c35-7fac-4c4e-bb55-ff39093d98c3",
       "rows": [
        [
         "0",
         "101",
         "Employee_101",
         "52.0",
         "HR",
         "02/06/20",
         "74776",
         "49 Example Street"
        ],
        [
         "1",
         "102",
         "Employee_102",
         "56.0",
         "Sales",
         "01/05/18",
         null,
         "214 Example Street"
        ],
        [
         "2",
         "103",
         "Employee_103",
         "35.0",
         "Marketing",
         "13/01/18",
         "87947",
         "963 Example Street"
        ],
        [
         "3",
         "104",
         "Employee_104",
         "57.0",
         "Finance",
         "07/04/19",
         null,
         "26 Example Street"
        ],
        [
         "4",
         "105",
         "Employee_105",
         "28.0",
         "Sales",
         "18/02/17",
         "INVALID",
         "828 Example Street"
        ],
        [
         "5",
         "106",
         "Employee_106",
         "52.0",
         "HR",
         "06/04/19",
         null,
         "971 Example Street"
        ],
        [
         "6",
         "107",
         "Employee_107",
         "50.0",
         "HR",
         "26/12/19",
         null,
         "268 Example Street"
        ],
        [
         "7",
         "108",
         "Employee_108",
         "33.0",
         "Marketing",
         "05/03/15",
         null,
         "648 Example Street"
        ],
        [
         "8",
         "109",
         "Employee_109",
         null,
         "HR",
         "20/05/15",
         null,
         "280 Example Street"
        ],
        [
         "9",
         "110",
         "Employee_110",
         "29.0",
         "IT",
         "30/05/19",
         "INVALID",
         "319 Example Street"
        ],
        [
         "10",
         "111",
         "Employee_111",
         "35.0",
         null,
         "30/11/15",
         null,
         "215 Example Street"
        ],
        [
         "11",
         "112",
         "Employee_112",
         "45.0",
         "Sales",
         "02/10/18",
         "INVALID",
         "127 Example Street"
        ],
        [
         "12",
         "113",
         "Employee_113",
         "51.0",
         "Marketing",
         "24/02/20",
         "75562",
         "936 Example Street"
        ],
        [
         "13",
         "114",
         "Employee_114",
         "43.0",
         "Marketing",
         "05/09/16",
         null,
         "201 Example Street"
        ],
        [
         "14",
         "115",
         "Employee_115",
         "60.0",
         "Finance",
         "18/05/21",
         null,
         "569 Example Street"
        ],
        [
         "15",
         "116",
         "Employee_116",
         "53.0",
         "Finance",
         "09/09/16",
         "35828",
         "617 Example Street"
        ],
        [
         "16",
         "117",
         "Employee_117",
         null,
         "Finance",
         "16/03/18",
         null,
         "488 Example Street"
        ],
        [
         "17",
         "118",
         "Employee_118",
         "56.0",
         null,
         "11/04/21",
         "60056",
         "55 Example Street"
        ],
        [
         "18",
         "119",
         "Employee_119",
         "34.0",
         "IT",
         "31/07/16",
         null,
         "518 Example Street"
        ],
        [
         "19",
         "120",
         "Employee_120",
         "41.0",
         "Sales",
         "21/08/18",
         "INVALID",
         "689 Example Street"
        ],
        [
         "20",
         "121",
         "Employee_121",
         "57.0",
         "IT",
         "08/08/18",
         "65459",
         "525 Example Street"
        ],
        [
         "21",
         "122",
         "Employee_122",
         "26.0",
         "Marketing",
         "24/09/20",
         "INVALID",
         "819 Example Street"
        ],
        [
         "22",
         "123",
         "Employee_123",
         "26.0",
         "HR",
         "31/12/16",
         "INVALID",
         "631 Example Street"
        ],
        [
         "23",
         "124",
         "Employee_124",
         null,
         "Finance",
         "01/10/20",
         null,
         "687 Example Street"
        ],
        [
         "24",
         "125",
         "Employee_125",
         "22.0",
         "Finance",
         "09/03/18",
         null,
         "56 Example Street"
        ],
        [
         "25",
         "126",
         "Employee_126",
         "51.0",
         "IT",
         "02/02/16",
         "98982",
         "348 Example Street"
        ],
        [
         "26",
         "127",
         "Employee_127",
         "34.0",
         "IT",
         "18/05/19",
         "INVALID",
         "381 Example Street"
        ],
        [
         "27",
         "128",
         "Employee_128",
         "56.0",
         "Sales",
         "19/11/18",
         null,
         "221 Example Street"
        ],
        [
         "28",
         "129",
         "Employee_129",
         "35.0",
         "Finance",
         "02/04/19",
         "30060",
         "218 Example Street"
        ],
        [
         "29",
         "130",
         "Employee_130",
         "51.0",
         null,
         "27/10/15",
         "108393",
         "640 Example Street"
        ],
        [
         "30",
         "131",
         "Employee_131",
         "48.0",
         "HR",
         "22/07/19",
         null,
         "743 Example Street"
        ],
        [
         "31",
         "132",
         "Employee_132",
         "28.0",
         "HR",
         "11/03/17",
         "46391",
         "290 Example Street"
        ],
        [
         "32",
         "133",
         "Employee_133",
         "45.0",
         "IT",
         "10/01/17",
         null,
         "176 Example Street"
        ],
        [
         "33",
         "134",
         "Employee_134",
         "42.0",
         "Marketing",
         "19/02/20",
         "INVALID",
         "735 Example Street"
        ],
        [
         "34",
         "135",
         "Employee_135",
         "35.0",
         "IT",
         "23/03/16",
         null,
         "898 Example Street"
        ],
        [
         "35",
         "136",
         "Employee_136",
         "28.0",
         null,
         "01/07/18",
         null,
         "897 Example Street"
        ],
        [
         "36",
         "137",
         "Employee_137",
         "58.0",
         "Sales",
         "26/01/16",
         null,
         "312 Example Street"
        ],
        [
         "37",
         "138",
         "Employee_138",
         "37.0",
         "HR",
         "11/07/15",
         null,
         "592 Example Street"
        ],
        [
         "38",
         "139",
         "Employee_139",
         null,
         "Finance",
         "02/12/18",
         null,
         "817 Example Street"
        ],
        [
         "39",
         "140",
         "Employee_140",
         "51.0",
         "IT",
         "30/06/15",
         "INVALID",
         "85 Example Street"
        ],
        [
         "40",
         "141",
         "Employee_141",
         "26.0",
         "Finance",
         "31/07/20",
         "116272",
         "551 Example Street"
        ],
        [
         "41",
         "142",
         "Employee_142",
         "29.0",
         "HR",
         "06/05/17",
         null,
         "552 Example Street"
        ],
        [
         "42",
         "143",
         "Employee_143",
         "40.0",
         "Marketing",
         "01/03/15",
         null,
         "585 Example Street"
        ],
        [
         "43",
         "144",
         "Employee_144",
         "25.0",
         "Marketing",
         "31/12/20",
         "40411",
         "100 Example Street"
        ],
        [
         "44",
         "145",
         "Employee_145",
         "56.0",
         null,
         "06/09/22",
         null,
         "471 Example Street"
        ],
        [
         "45",
         "146",
         "Employee_146",
         "25.0",
         "HR",
         "24/10/20",
         "86543",
         "588 Example Street"
        ],
        [
         "46",
         "147",
         "Employee_147",
         "53.0",
         "Finance",
         "02/01/19",
         null,
         "466 Example Street"
        ],
        [
         "47",
         "148",
         "Employee_148",
         "50.0",
         "Finance",
         "02/04/21",
         null,
         "757 Example Street"
        ],
        [
         "48",
         "149",
         "Employee_149",
         "51.0",
         "Finance",
         "08/07/17",
         "43554",
         "613 Example Street"
        ],
        [
         "49",
         "150",
         "Employee_150",
         "58.0",
         "Marketing",
         "18/11/20",
         null,
         "746 Example Street"
        ]
       ],
       "shape": {
        "columns": 7,
        "rows": 100
       }
      },
      "text/html": [
       "<div>\n",
       "<style scoped>\n",
       "    .dataframe tbody tr th:only-of-type {\n",
       "        vertical-align: middle;\n",
       "    }\n",
       "\n",
       "    .dataframe tbody tr th {\n",
       "        vertical-align: top;\n",
       "    }\n",
       "\n",
       "    .dataframe thead th {\n",
       "        text-align: right;\n",
       "    }\n",
       "</style>\n",
       "<table border=\"1\" class=\"dataframe\">\n",
       "  <thead>\n",
       "    <tr style=\"text-align: right;\">\n",
       "      <th></th>\n",
       "      <th>Employee_ID</th>\n",
       "      <th>Employee Name</th>\n",
       "      <th>Age</th>\n",
       "      <th>Department</th>\n",
       "      <th>Joining Date</th>\n",
       "      <th>Salary</th>\n",
       "      <th>Address</th>\n",
       "    </tr>\n",
       "  </thead>\n",
       "  <tbody>\n",
       "    <tr>\n",
       "      <th>0</th>\n",
       "      <td>101</td>\n",
       "      <td>Employee_101</td>\n",
       "      <td>52.0</td>\n",
       "      <td>HR</td>\n",
       "      <td>02/06/20</td>\n",
       "      <td>74776</td>\n",
       "      <td>49 Example Street</td>\n",
       "    </tr>\n",
       "    <tr>\n",
       "      <th>1</th>\n",
       "      <td>102</td>\n",
       "      <td>Employee_102</td>\n",
       "      <td>56.0</td>\n",
       "      <td>Sales</td>\n",
       "      <td>01/05/18</td>\n",
       "      <td>NaN</td>\n",
       "      <td>214 Example Street</td>\n",
       "    </tr>\n",
       "    <tr>\n",
       "      <th>2</th>\n",
       "      <td>103</td>\n",
       "      <td>Employee_103</td>\n",
       "      <td>35.0</td>\n",
       "      <td>Marketing</td>\n",
       "      <td>13/01/18</td>\n",
       "      <td>87947</td>\n",
       "      <td>963 Example Street</td>\n",
       "    </tr>\n",
       "    <tr>\n",
       "      <th>3</th>\n",
       "      <td>104</td>\n",
       "      <td>Employee_104</td>\n",
       "      <td>57.0</td>\n",
       "      <td>Finance</td>\n",
       "      <td>07/04/19</td>\n",
       "      <td>NaN</td>\n",
       "      <td>26 Example Street</td>\n",
       "    </tr>\n",
       "    <tr>\n",
       "      <th>4</th>\n",
       "      <td>105</td>\n",
       "      <td>Employee_105</td>\n",
       "      <td>28.0</td>\n",
       "      <td>Sales</td>\n",
       "      <td>18/02/17</td>\n",
       "      <td>INVALID</td>\n",
       "      <td>828 Example Street</td>\n",
       "    </tr>\n",
       "    <tr>\n",
       "      <th>...</th>\n",
       "      <td>...</td>\n",
       "      <td>...</td>\n",
       "      <td>...</td>\n",
       "      <td>...</td>\n",
       "      <td>...</td>\n",
       "      <td>...</td>\n",
       "      <td>...</td>\n",
       "    </tr>\n",
       "    <tr>\n",
       "      <th>95</th>\n",
       "      <td>196</td>\n",
       "      <td>Employee_196</td>\n",
       "      <td>34.0</td>\n",
       "      <td>IT</td>\n",
       "      <td>28/02/22</td>\n",
       "      <td>NaN</td>\n",
       "      <td>537 Example Street</td>\n",
       "    </tr>\n",
       "    <tr>\n",
       "      <th>96</th>\n",
       "      <td>197</td>\n",
       "      <td>Employee_197</td>\n",
       "      <td>60.0</td>\n",
       "      <td>Finance</td>\n",
       "      <td>08/03/19</td>\n",
       "      <td>INVALID</td>\n",
       "      <td>548 Example Street</td>\n",
       "    </tr>\n",
       "    <tr>\n",
       "      <th>97</th>\n",
       "      <td>198</td>\n",
       "      <td>Employee_198</td>\n",
       "      <td>31.0</td>\n",
       "      <td>HR</td>\n",
       "      <td>01/07/21</td>\n",
       "      <td>NaN</td>\n",
       "      <td>775 Example Street</td>\n",
       "    </tr>\n",
       "    <tr>\n",
       "      <th>98</th>\n",
       "      <td>199</td>\n",
       "      <td>Employee_199</td>\n",
       "      <td>46.0</td>\n",
       "      <td>Finance</td>\n",
       "      <td>20/09/19</td>\n",
       "      <td>NaN</td>\n",
       "      <td>527 Example Street</td>\n",
       "    </tr>\n",
       "    <tr>\n",
       "      <th>99</th>\n",
       "      <td>200</td>\n",
       "      <td>Employee_200</td>\n",
       "      <td>59.0</td>\n",
       "      <td>Sales</td>\n",
       "      <td>21/01/20</td>\n",
       "      <td>95964</td>\n",
       "      <td>183 Example Street</td>\n",
       "    </tr>\n",
       "  </tbody>\n",
       "</table>\n",
       "<p>100 rows × 7 columns</p>\n",
       "</div>"
      ],
      "text/plain": [
       "    Employee_ID Employee Name   Age Department Joining Date   Salary  \\\n",
       "0           101  Employee_101  52.0         HR     02/06/20    74776   \n",
       "1           102  Employee_102  56.0      Sales     01/05/18      NaN   \n",
       "2           103  Employee_103  35.0  Marketing     13/01/18    87947   \n",
       "3           104  Employee_104  57.0    Finance     07/04/19      NaN   \n",
       "4           105  Employee_105  28.0      Sales     18/02/17  INVALID   \n",
       "..          ...           ...   ...        ...          ...      ...   \n",
       "95          196  Employee_196  34.0         IT     28/02/22      NaN   \n",
       "96          197  Employee_197  60.0    Finance     08/03/19  INVALID   \n",
       "97          198  Employee_198  31.0         HR     01/07/21      NaN   \n",
       "98          199  Employee_199  46.0    Finance     20/09/19      NaN   \n",
       "99          200  Employee_200  59.0      Sales     21/01/20    95964   \n",
       "\n",
       "               Address  \n",
       "0    49 Example Street  \n",
       "1   214 Example Street  \n",
       "2   963 Example Street  \n",
       "3    26 Example Street  \n",
       "4   828 Example Street  \n",
       "..                 ...  \n",
       "95  537 Example Street  \n",
       "96  548 Example Street  \n",
       "97  775 Example Street  \n",
       "98  527 Example Street  \n",
       "99  183 Example Street  \n",
       "\n",
       "[100 rows x 7 columns]"
      ]
     },
     "execution_count": 22,
     "metadata": {},
     "output_type": "execute_result"
    }
   ],
   "source": [
    "df.drop_duplicates()"
   ]
  },
  {
   "cell_type": "markdown",
   "metadata": {},
   "source": [
    "### what is correlation with each other"
   ]
  },
  {
   "cell_type": "code",
   "execution_count": 23,
   "metadata": {},
   "outputs": [],
   "source": [
    "# df.corr()['Age']"
   ]
  },
  {
   "cell_type": "code",
   "execution_count": null,
   "metadata": {},
   "outputs": [],
   "source": []
  }
 ],
 "metadata": {
  "kernelspec": {
   "display_name": "Python 3",
   "language": "python",
   "name": "python3"
  },
  "language_info": {
   "codemirror_mode": {
    "name": "ipython",
    "version": 3
   },
   "file_extension": ".py",
   "mimetype": "text/x-python",
   "name": "python",
   "nbconvert_exporter": "python",
   "pygments_lexer": "ipython3",
   "version": "3.11.9"
  }
 },
 "nbformat": 4,
 "nbformat_minor": 2
}
